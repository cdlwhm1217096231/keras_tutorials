{
 "cells": [
  {
   "cell_type": "code",
   "execution_count": 1,
   "metadata": {},
   "outputs": [
    {
     "name": "stderr",
     "output_type": "stream",
     "text": [
      "Using TensorFlow backend.\n"
     ]
    }
   ],
   "source": [
    "from keras import layers\n",
    "\n"
   ]
  },
  {
   "cell_type": "code",
   "execution_count": 2,
   "metadata": {
    "collapsed": true
   },
   "outputs": [],
   "source": [
    "# 输入是第一个维度数是784的2D张量（第o轴是批量维度，大小没有指定，可以是任意输入值）,返回是一个张量\n",
    "layer = layers.Dense(32, input_shape=(784,))  # 有32个输出单元的密集层"
   ]
  },
  {
   "cell_type": "code",
   "execution_count": 8,
   "metadata": {
    "collapsed": true
   },
   "outputs": [],
   "source": [
    "from keras import models\n",
    "from keras import layers\n",
    "\n",
    "model = models.Sequential()\n",
    "model.add(layers.Dense(32, input_shape=(784,)))\n",
    "model.add(layers.Dense(32))"
   ]
  },
  {
   "cell_type": "markdown",
   "metadata": {},
   "source": [
    "### keras工作流程\n",
    "- 1.定义训练数据: 输入张量和目标张量\n",
    "- 2.定义层组成的网络(或模型),将输入映射到目标\n",
    "- 3.配置学习过程: 选择损失函数 优化器 和需要监控的指标\n",
    "- 4.调用模型的fit方法在训练数据上进行迭代"
   ]
  },
  {
   "cell_type": "markdown",
   "metadata": {},
   "source": [
    "### 定义模型的两种方法:\n",
    "- 1.使用Sequential类定义的两层模型\n",
    "- 2.函数式API"
   ]
  },
  {
   "cell_type": "markdown",
   "metadata": {},
   "source": [
    "#### 1.方法1"
   ]
  },
  {
   "cell_type": "code",
   "execution_count": 9,
   "metadata": {
    "collapsed": true
   },
   "outputs": [],
   "source": [
    "from keras import models\n",
    "from keras import layers\n",
    "\n",
    "model = models.Sequential()\n",
    "model.add(layers.Dense(32, activation='relu', input_shape=(784,)))\n",
    "model.add(layers.Dense(10, activation='softmax'))"
   ]
  },
  {
   "cell_type": "markdown",
   "metadata": {},
   "source": [
    "#### 2.函数式API"
   ]
  },
  {
   "cell_type": "code",
   "execution_count": 10,
   "metadata": {
    "collapsed": true
   },
   "outputs": [],
   "source": [
    "input_tensor = layers.Input(shape=(784,))\n",
    "x = layers.Dense(32, activation='relu')(input_tensor)\n",
    "output_tensor = layers.Dense(10, activation='softmax')(x)\n",
    "\n",
    "model = models.Model(inputs=input_tensor, outputs=output_tensor)"
   ]
  },
  {
   "cell_type": "markdown",
   "metadata": {},
   "source": [
    "### 模型定义好后，需要指定模型使用的优化器和损失函数/训练过程中想要监控的指标"
   ]
  },
  {
   "cell_type": "code",
   "execution_count": 11,
   "metadata": {
    "collapsed": true
   },
   "outputs": [],
   "source": [
    "from keras import optimizers\n",
    "\n",
    "model.compile(optimizer=optimizers.RMSprop(lr=0.001),loss='mse', metrics=['accuracy'])"
   ]
  },
  {
   "cell_type": "markdown",
   "metadata": {},
   "source": [
    "### 通过fit()方法将输入数据的数组传入模型"
   ]
  },
  {
   "cell_type": "code",
   "execution_count": 7,
   "metadata": {},
   "outputs": [
    {
     "ename": "NameError",
     "evalue": "name 'target_tensor' is not defined",
     "output_type": "error",
     "traceback": [
      "\u001b[0;31m---------------------------------------------------------------------------\u001b[0m",
      "\u001b[0;31mNameError\u001b[0m                                 Traceback (most recent call last)",
      "\u001b[0;32m<ipython-input-7-2690c3397b5e>\u001b[0m in \u001b[0;36m<module>\u001b[0;34m()\u001b[0m\n\u001b[0;32m----> 1\u001b[0;31m \u001b[0mmodel\u001b[0m\u001b[0;34m.\u001b[0m\u001b[0mfit\u001b[0m\u001b[0;34m(\u001b[0m\u001b[0minput_tensor\u001b[0m\u001b[0;34m,\u001b[0m \u001b[0mtarget_tensor\u001b[0m\u001b[0;34m,\u001b[0m \u001b[0mbatch_size\u001b[0m\u001b[0;34m=\u001b[0m\u001b[0;36m128\u001b[0m\u001b[0;34m,\u001b[0m \u001b[0mepochs\u001b[0m\u001b[0;34m=\u001b[0m\u001b[0;36m10\u001b[0m\u001b[0;34m)\u001b[0m\u001b[0;34m\u001b[0m\u001b[0m\n\u001b[0m",
      "\u001b[0;31mNameError\u001b[0m: name 'target_tensor' is not defined"
     ]
    }
   ],
   "source": [
    "model.fit(input_tensor, target_tensor, batch_size=128, epochs=10)"
   ]
  },
  {
   "cell_type": "markdown",
   "metadata": {},
   "source": [
    "## 在云端AWS EC2运行深度学习任务优点和缺点\n",
    "- 简单成本低，无需购买硬件\n",
    "- 从长期看，价格很高\n",
    "\n",
    "## 深度学习的最佳GPU\n",
    "- 购买NVIDIA GPU\n",
    "- 显卡推荐NVIDIA TITAN Xp/GTX 1060"
   ]
  },
  {
   "cell_type": "markdown",
   "metadata": {},
   "source": [
    "## demo1电影评论分类:二分类问题"
   ]
  },
  {
   "cell_type": "code",
   "execution_count": 12,
   "metadata": {
    "collapsed": true
   },
   "outputs": [],
   "source": [
    "from keras.datasets import imdb\n",
    "\n"
   ]
  },
  {
   "cell_type": "code",
   "execution_count": 13,
   "metadata": {
    "collapsed": true
   },
   "outputs": [],
   "source": [
    "#加载数据集\n",
    "# 仅保留训练集中的前10000个最常见的单词，低频的单词将会舍弃\n",
    "(train_data, train_labels), (test_data, test_labels) = imdb.load_data(num_words=10000)\n",
    "# train_data test_data都是评论组成的列表，每条评论又是单词索引组成的列表\n",
    "# train_labels test_labels 都是0和1 组成的列表，0代表差评 1代表好评"
   ]
  },
  {
   "cell_type": "code",
   "execution_count": 14,
   "metadata": {},
   "outputs": [
    {
     "data": {
      "text/plain": [
       "(25000,)"
      ]
     },
     "execution_count": 14,
     "metadata": {},
     "output_type": "execute_result"
    }
   ],
   "source": [
    "train_data.shape  # 25000条评论"
   ]
  },
  {
   "cell_type": "code",
   "execution_count": 15,
   "metadata": {},
   "outputs": [
    {
     "data": {
      "text/plain": [
       "[1,\n",
       " 14,\n",
       " 22,\n",
       " 16,\n",
       " 43,\n",
       " 530,\n",
       " 973,\n",
       " 1622,\n",
       " 1385,\n",
       " 65,\n",
       " 458,\n",
       " 4468,\n",
       " 66,\n",
       " 3941,\n",
       " 4,\n",
       " 173,\n",
       " 36,\n",
       " 256,\n",
       " 5,\n",
       " 25,\n",
       " 100,\n",
       " 43,\n",
       " 838,\n",
       " 112,\n",
       " 50,\n",
       " 670,\n",
       " 2,\n",
       " 9,\n",
       " 35,\n",
       " 480,\n",
       " 284,\n",
       " 5,\n",
       " 150,\n",
       " 4,\n",
       " 172,\n",
       " 112,\n",
       " 167,\n",
       " 2,\n",
       " 336,\n",
       " 385,\n",
       " 39,\n",
       " 4,\n",
       " 172,\n",
       " 4536,\n",
       " 1111,\n",
       " 17,\n",
       " 546,\n",
       " 38,\n",
       " 13,\n",
       " 447,\n",
       " 4,\n",
       " 192,\n",
       " 50,\n",
       " 16,\n",
       " 6,\n",
       " 147,\n",
       " 2025,\n",
       " 19,\n",
       " 14,\n",
       " 22,\n",
       " 4,\n",
       " 1920,\n",
       " 4613,\n",
       " 469,\n",
       " 4,\n",
       " 22,\n",
       " 71,\n",
       " 87,\n",
       " 12,\n",
       " 16,\n",
       " 43,\n",
       " 530,\n",
       " 38,\n",
       " 76,\n",
       " 15,\n",
       " 13,\n",
       " 1247,\n",
       " 4,\n",
       " 22,\n",
       " 17,\n",
       " 515,\n",
       " 17,\n",
       " 12,\n",
       " 16,\n",
       " 626,\n",
       " 18,\n",
       " 2,\n",
       " 5,\n",
       " 62,\n",
       " 386,\n",
       " 12,\n",
       " 8,\n",
       " 316,\n",
       " 8,\n",
       " 106,\n",
       " 5,\n",
       " 4,\n",
       " 2223,\n",
       " 5244,\n",
       " 16,\n",
       " 480,\n",
       " 66,\n",
       " 3785,\n",
       " 33,\n",
       " 4,\n",
       " 130,\n",
       " 12,\n",
       " 16,\n",
       " 38,\n",
       " 619,\n",
       " 5,\n",
       " 25,\n",
       " 124,\n",
       " 51,\n",
       " 36,\n",
       " 135,\n",
       " 48,\n",
       " 25,\n",
       " 1415,\n",
       " 33,\n",
       " 6,\n",
       " 22,\n",
       " 12,\n",
       " 215,\n",
       " 28,\n",
       " 77,\n",
       " 52,\n",
       " 5,\n",
       " 14,\n",
       " 407,\n",
       " 16,\n",
       " 82,\n",
       " 2,\n",
       " 8,\n",
       " 4,\n",
       " 107,\n",
       " 117,\n",
       " 5952,\n",
       " 15,\n",
       " 256,\n",
       " 4,\n",
       " 2,\n",
       " 7,\n",
       " 3766,\n",
       " 5,\n",
       " 723,\n",
       " 36,\n",
       " 71,\n",
       " 43,\n",
       " 530,\n",
       " 476,\n",
       " 26,\n",
       " 400,\n",
       " 317,\n",
       " 46,\n",
       " 7,\n",
       " 4,\n",
       " 2,\n",
       " 1029,\n",
       " 13,\n",
       " 104,\n",
       " 88,\n",
       " 4,\n",
       " 381,\n",
       " 15,\n",
       " 297,\n",
       " 98,\n",
       " 32,\n",
       " 2071,\n",
       " 56,\n",
       " 26,\n",
       " 141,\n",
       " 6,\n",
       " 194,\n",
       " 7486,\n",
       " 18,\n",
       " 4,\n",
       " 226,\n",
       " 22,\n",
       " 21,\n",
       " 134,\n",
       " 476,\n",
       " 26,\n",
       " 480,\n",
       " 5,\n",
       " 144,\n",
       " 30,\n",
       " 5535,\n",
       " 18,\n",
       " 51,\n",
       " 36,\n",
       " 28,\n",
       " 224,\n",
       " 92,\n",
       " 25,\n",
       " 104,\n",
       " 4,\n",
       " 226,\n",
       " 65,\n",
       " 16,\n",
       " 38,\n",
       " 1334,\n",
       " 88,\n",
       " 12,\n",
       " 16,\n",
       " 283,\n",
       " 5,\n",
       " 16,\n",
       " 4472,\n",
       " 113,\n",
       " 103,\n",
       " 32,\n",
       " 15,\n",
       " 16,\n",
       " 5345,\n",
       " 19,\n",
       " 178,\n",
       " 32]"
      ]
     },
     "execution_count": 15,
     "metadata": {},
     "output_type": "execute_result"
    }
   ],
   "source": [
    "train_data[0]"
   ]
  },
  {
   "cell_type": "code",
   "execution_count": 16,
   "metadata": {},
   "outputs": [
    {
     "data": {
      "text/plain": [
       "0"
      ]
     },
     "execution_count": 16,
     "metadata": {},
     "output_type": "execute_result"
    }
   ],
   "source": [
    "train_labels[24999]"
   ]
  },
  {
   "cell_type": "code",
   "execution_count": 17,
   "metadata": {},
   "outputs": [
    {
     "data": {
      "text/plain": [
       "9999"
      ]
     },
     "execution_count": 17,
     "metadata": {},
     "output_type": "execute_result"
    }
   ],
   "source": [
    "max([max(sequence) for sequence in train_data])   # 单词的索引都不会超过10000，只统计训练集中前10000个单词"
   ]
  },
  {
   "cell_type": "code",
   "execution_count": 18,
   "metadata": {},
   "outputs": [
    {
     "data": {
      "text/plain": [
       "{\"groom'\": 70646,\n",
       " 'captioned': 32695,\n",
       " 'timeshifts': 87995,\n",
       " 'athleticism': 21677,\n",
       " 'bot': 35143,\n",
       " 'apologists': 34348,\n",
       " 'lidl': 72347,\n",
       " 'outrun': 24848,\n",
       " 'snipes': 7574,\n",
       " 'horribly': 2354,\n",
       " 'jealousy': 6578,\n",
       " 'austreheim': 86997,\n",
       " \"bakery's\": 85418,\n",
       " 'incitement': 47640,\n",
       " 'unintrusive': 49418,\n",
       " 'aulis': 57073,\n",
       " 'criticise': 15203,\n",
       " \"'country\": 37016,\n",
       " 'bushes': 16378,\n",
       " 'realisation': 17640,\n",
       " 'khrushchev': 44964,\n",
       " \"zannetti's\": 69231,\n",
       " 'booz': 88512,\n",
       " 'ramrodder': 46522,\n",
       " 'shrills': 74935,\n",
       " 'squirting': 25665,\n",
       " \"'99\": 43724,\n",
       " 'evaporates': 32865,\n",
       " 'depravity': 11752,\n",
       " 'konchalovksy': 40427,\n",
       " 'bomber': 11152,\n",
       " 'polarised': 56015,\n",
       " 'cables': 27507,\n",
       " 'ossification': 59555,\n",
       " 'ellipsis': 43626,\n",
       " 'hyper': 6734,\n",
       " 'observatory': 56936,\n",
       " 'tsu': 73395,\n",
       " \"'dress\": 76841,\n",
       " 'majestically': 44202,\n",
       " 'trailer': 1469,\n",
       " 'deserter': 81998,\n",
       " \"brat's\": 88261,\n",
       " 'macfadyen': 71579,\n",
       " 'curatola': 63641,\n",
       " 'uttered': 10891,\n",
       " 'theoretical': 20344,\n",
       " 'founder': 17297,\n",
       " 'worships': 18989,\n",
       " 'showy': 13971,\n",
       " \"christ'\": 77490,\n",
       " 'reprogram': 65132,\n",
       " 'da': 5435,\n",
       " 'bouncy': 16125,\n",
       " 'wayyyyy': 60357,\n",
       " '1983s': 83091,\n",
       " 'curtains': 12548,\n",
       " 'rave': 5162,\n",
       " 'usaffe': 51209,\n",
       " 'eritated': 63602,\n",
       " 'kristel': 16881,\n",
       " 'clime': 73355,\n",
       " 'suprise': 25707,\n",
       " \"'aliens'\": 48730,\n",
       " 'ghoul': 17148,\n",
       " 'imbeciles': 24446,\n",
       " 'looms': 21614,\n",
       " 'caratherisic': 88167,\n",
       " 'thermal': 46955,\n",
       " 'underestimation': 86044,\n",
       " \"harris's\": 24459,\n",
       " 'bafflement': 36010,\n",
       " 'physicians': 35657,\n",
       " 'compaer': 86336,\n",
       " 'babaloo': 32386,\n",
       " 'anticipating': 13332,\n",
       " 'keach': 28195,\n",
       " 'sabotaging': 27708,\n",
       " 'riflescope': 67321,\n",
       " 'fitz': 16013,\n",
       " 'ffs': 80663,\n",
       " \"bull's\": 77854,\n",
       " 'ulrich': 14158,\n",
       " 'remorseful': 38189,\n",
       " 'intuitive': 20994,\n",
       " 'melancholy': 7879,\n",
       " 'terminus': 43362,\n",
       " 'neul': 40630,\n",
       " \"martians'\": 41095,\n",
       " 'jorma': 68630,\n",
       " \"ober's\": 72289,\n",
       " 'hampel': 71998,\n",
       " 'jetlag': 79569,\n",
       " \"maureen's\": 67519,\n",
       " 'adjacent': 21861,\n",
       " 'bloodletting': 20670,\n",
       " 'scatchard': 72075,\n",
       " \"freddie'\": 83710,\n",
       " 'nonreligious': 67549,\n",
       " 'lamo': 64120,\n",
       " 'funneled': 37558,\n",
       " 'sendak': 66439,\n",
       " 'mystifyingly': 41490,\n",
       " 'oneself': 12323,\n",
       " 'implosive': 67208,\n",
       " 'freeze': 6129,\n",
       " 'ranch\\x85': 59320,\n",
       " 'maltex': 63653,\n",
       " 'smolley': 60821,\n",
       " 'disavow': 45452,\n",
       " 'spatter': 67795,\n",
       " 'hypermodern': 83704,\n",
       " 'functionality': 35978,\n",
       " 'keiko': 73288,\n",
       " 'smooch': 46943,\n",
       " 'bachmann': 65382,\n",
       " \"'historical'\": 72897,\n",
       " 'wrongfully': 21847,\n",
       " 'easterners': 81651,\n",
       " 'barracuda': 40467,\n",
       " 'jenkins': 15360,\n",
       " 'grenier': 47781,\n",
       " 'knocks': 6632,\n",
       " \"cunningham's\": 27107,\n",
       " 'unbind': 67290,\n",
       " 'zir': 50808,\n",
       " 'rei': 59473,\n",
       " 'june': 4692,\n",
       " 'nauvoo': 35486,\n",
       " 'idioms': 62173,\n",
       " \"'sin'\": 56745,\n",
       " 'francês': 51201,\n",
       " 'carolyn': 30824,\n",
       " \"bastard's\": 43578,\n",
       " 'bucked': 76296,\n",
       " 'slug': 9180,\n",
       " 'duffer': 53259,\n",
       " 'obscurity': 7646,\n",
       " 'tor': 24950,\n",
       " 'wooster': 44721,\n",
       " 'lipgloss': 77730,\n",
       " 'mauled': 33531,\n",
       " 'miko': 25007,\n",
       " 'methodology': 42155,\n",
       " 'hustle': 16761,\n",
       " \"anand's\": 27819,\n",
       " 'play': 294,\n",
       " \"'invented'\": 81559,\n",
       " 'piercings': 42201,\n",
       " 'lifecycle': 66147,\n",
       " 'deth': 27916,\n",
       " 'draws': 3768,\n",
       " 'opportune': 80043,\n",
       " 'promise': 2336,\n",
       " 'grunge': 25787,\n",
       " \"o'henry\": 72067,\n",
       " 'dartboard': 66539,\n",
       " 'concatenation': 56741,\n",
       " 'compassionately': 32734,\n",
       " 'wayne': 2448,\n",
       " 'murpy': 67702,\n",
       " 'cranston': 71742,\n",
       " 'imploring': 78632,\n",
       " 'leery': 32842,\n",
       " 'commemorate': 31096,\n",
       " 'redeemable': 17710,\n",
       " 'silo': 36719,\n",
       " \"teen's\": 27947,\n",
       " \"hopkins's\": 68929,\n",
       " 'brainstorm': 63995,\n",
       " 'supertexts': 68309,\n",
       " \"rival's\": 44146,\n",
       " 'demurs': 46405,\n",
       " 'bookish': 21130,\n",
       " 'ticks': 23151,\n",
       " \"'rebellious'\": 77324,\n",
       " 'allure': 11476,\n",
       " 'n1': 78272,\n",
       " \"tap'\": 52954,\n",
       " 'fastest': 18877,\n",
       " 'privy': 18398,\n",
       " 'batouch': 78328,\n",
       " 'drop': 2437,\n",
       " 'indebted': 32563,\n",
       " 'downsizing': 45107,\n",
       " 'ooo': 58221,\n",
       " 'kedrova': 81048,\n",
       " 'celine': 9294,\n",
       " 'fullscreen': 40405,\n",
       " 'durant': 50472,\n",
       " 'cumming': 15526,\n",
       " 'hammering': 21395,\n",
       " 'floating': 4690,\n",
       " 'intelligible': 36853,\n",
       " 'disquiet': 72117,\n",
       " 'photojournals': 34754,\n",
       " 'chortles': 53195,\n",
       " 'macon': 49927,\n",
       " 'boomerang': 21828,\n",
       " 'him\\x85': 47352,\n",
       " 'pouting': 22527,\n",
       " 'strengthening': 54419,\n",
       " 'leffers': 82086,\n",
       " \"'bar\": 44844,\n",
       " \"'daniel\": 55668,\n",
       " \"emory's\": 38044,\n",
       " 'laroux': 78827,\n",
       " \"picquer's\": 81622,\n",
       " \"'video\": 25083,\n",
       " 'delany': 34139,\n",
       " \"pepe's\": 71416,\n",
       " 'haggard': 11383,\n",
       " 'molerats': 83546,\n",
       " 'khialdi': 56517,\n",
       " 'enslave': 34581,\n",
       " 'reasembling': 84585,\n",
       " 'packs': 6507,\n",
       " 'topical': 15678,\n",
       " 'sculpted': 36871,\n",
       " 'impersonation': 10333,\n",
       " 'rut': 17774,\n",
       " 'fffrreeaakkyy': 66213,\n",
       " 'honoust': 44722,\n",
       " 'gluing': 78068,\n",
       " \"'robin\": 87196,\n",
       " 'roughneck': 40372,\n",
       " '10star': 85801,\n",
       " 'etcetera': 17643,\n",
       " 'disovered': 73216,\n",
       " \"annoying'\": 60878,\n",
       " 'exacted': 56674,\n",
       " 'scoffing': 35000,\n",
       " \"addict's\": 58590,\n",
       " 'instincts': 6898,\n",
       " \"'french\": 68250,\n",
       " 'collier': 29719,\n",
       " 'parkey': 58385,\n",
       " 'seeping': 36110,\n",
       " 'scoggins': 25224,\n",
       " 'heuristic': 78481,\n",
       " 'toy': 2885,\n",
       " 'enfilden': 80610,\n",
       " 'emmenthal': 44596,\n",
       " 'renews': 51477,\n",
       " 'hinson': 47356,\n",
       " 'slambang': 67122,\n",
       " 'favourably': 25145,\n",
       " 'monteith': 28824,\n",
       " 'guetary': 18729,\n",
       " 'makutsi': 37680,\n",
       " 'stereophonics': 87898,\n",
       " \"ignorance'\": 61115,\n",
       " 'dorfman': 18854,\n",
       " 'glumly': 73828,\n",
       " \"brahm's\": 82024,\n",
       " 'jugnu': 72819,\n",
       " 'patoot': 56372,\n",
       " 'klutz': 35150,\n",
       " 'thirsting': 76670,\n",
       " 'katana': 26542,\n",
       " 'kaneko': 32520,\n",
       " 'buoyed': 31207,\n",
       " \"'fish\": 71602,\n",
       " 'dialectics': 53605,\n",
       " 'infatuated': 13306,\n",
       " 'stolid': 20898,\n",
       " 'preserve': 11975,\n",
       " \"musical's\": 41031,\n",
       " 'headfirst': 50864,\n",
       " 'impediment': 20166,\n",
       " 'minta': 69170,\n",
       " 'jorobado': 69732,\n",
       " 'laurie': 6552,\n",
       " 'rejuvenate': 72034,\n",
       " \"'always\": 52355,\n",
       " 'dishonor': 30071,\n",
       " 'wrecks': 14318,\n",
       " 'teheran': 80706,\n",
       " 'thankless': 11321,\n",
       " '1816': 43953,\n",
       " 'gravesite': 63311,\n",
       " 'opposition': 8772,\n",
       " 'tantalizingly': 52614,\n",
       " 'mjyoung': 72352,\n",
       " 'slickers': 33881,\n",
       " 'hornblower': 25211,\n",
       " 'saucer': 18129,\n",
       " \"d'état\": 35527,\n",
       " 'momento': 57294,\n",
       " 'charing': 36443,\n",
       " 'gallactica': 33360,\n",
       " 'sardine': 63776,\n",
       " 'familiarizing': 81802,\n",
       " 'fornicating': 39034,\n",
       " 'expats': 68383,\n",
       " 'sarcasm': 7100,\n",
       " 'scorer': 85223,\n",
       " 'tierney': 5806,\n",
       " 'pines': 31205,\n",
       " 'wholovesthesun': 84570,\n",
       " 'godfrey': 26793,\n",
       " \"rights'\": 57299,\n",
       " 'selzer': 86380,\n",
       " 'commercialisation': 47095,\n",
       " 'sose': 72365,\n",
       " 'standstill': 33551,\n",
       " \"city's\": 9524,\n",
       " 'ashcroft': 49052,\n",
       " 'caretakers': 20571,\n",
       " 'conservative': 4525,\n",
       " 'strongpoint': 73651,\n",
       " 'nuel': 43566,\n",
       " 'strouse': 65227,\n",
       " 'skewer': 34749,\n",
       " 'vladimir': 33444,\n",
       " 'mentally': 2982,\n",
       " \"'sub\": 39979,\n",
       " 'blanche': 18677,\n",
       " \"beineix's\": 56817,\n",
       " 'nightclub': 6443,\n",
       " 'stunk': 10203,\n",
       " 'floated': 27685,\n",
       " 'voluntarily': 25697,\n",
       " 'tassi': 14038,\n",
       " 'animaniacs': 32440,\n",
       " 'chia': 34954,\n",
       " \"ramie's\": 77673,\n",
       " 'backdrops': 9117,\n",
       " 'pursuit': 4853,\n",
       " 'lottery': 13951,\n",
       " 'marketing': 4933,\n",
       " \"pekinpah's\": 54788,\n",
       " 'macro': 51463,\n",
       " \"fx'es\": 63028,\n",
       " 'bierko': 62696,\n",
       " 'kardasian': 78124,\n",
       " 'flava': 60395,\n",
       " 'atul': 18803,\n",
       " 'phantom': 4922,\n",
       " 'ghungroo': 43949,\n",
       " 'nypd': 15865,\n",
       " \"gavras's\": 60036,\n",
       " 'breaker': 17630,\n",
       " 'pamby': 55394,\n",
       " \"filth's\": 70600,\n",
       " 'unamerican': 66651,\n",
       " 'candies': 36884,\n",
       " 'belivably': 55105,\n",
       " 'amicus': 13351,\n",
       " 'tirade': 19686,\n",
       " 'regular': 1985,\n",
       " 'imperishable': 60892,\n",
       " 'wearily': 38173,\n",
       " 'slags': 69310,\n",
       " 'dumpy': 23263,\n",
       " 'atan': 46540,\n",
       " 'creeps': 9445,\n",
       " 'adell': 58951,\n",
       " 'mutha': 74080,\n",
       " 'denigh': 57456,\n",
       " 'eased': 34560,\n",
       " 'superhuman': 15215,\n",
       " 'outvoted': 65228,\n",
       " 'intents': 17269,\n",
       " 'loosening': 82826,\n",
       " 'tangle': 24184,\n",
       " 'translation': 3850,\n",
       " 'keillor': 84814,\n",
       " 'spinsterish': 71014,\n",
       " 'meaningfulness': 40900,\n",
       " 'pomerantz': 67911,\n",
       " \"'c'\": 47028,\n",
       " 'bloch': 18929,\n",
       " \"mcelwee's\": 40801,\n",
       " \"c'est\": 28939,\n",
       " 'jackson': 1878,\n",
       " 'closeted': 23290,\n",
       " 'dianne': 21833,\n",
       " 'superabundance': 82855,\n",
       " 'stutter': 25254,\n",
       " 'mcgarrett': 42150,\n",
       " 'barefoot': 18017,\n",
       " 'overworking': 63224,\n",
       " 'disapproving': 18817,\n",
       " 'newberry': 56670,\n",
       " 'lorenço': 63162,\n",
       " 'conferences': 30045,\n",
       " 'fantes': 72196,\n",
       " \"gardiner's\": 75241,\n",
       " 'slasher': 1176,\n",
       " 'pranksters': 32195,\n",
       " \"doin'\": 45296,\n",
       " 'grubach': 66487,\n",
       " 'rodent': 19616,\n",
       " \"'opened\": 82445,\n",
       " 'specialty': 13355,\n",
       " 'ppp': 68826,\n",
       " \"argentina's\": 34132,\n",
       " 'rowlands': 7214,\n",
       " 'magnitude': 12390,\n",
       " 'krick': 41446,\n",
       " 'unlawful': 34030,\n",
       " \"'adult'\": 23330,\n",
       " 'hards': 35432,\n",
       " \"mencken's\": 77039,\n",
       " 'denison': 27447,\n",
       " \"gardener's\": 39649,\n",
       " 'kneeling': 34624,\n",
       " \"alive's\": 82321,\n",
       " 'gossebumps': 82979,\n",
       " 'fairbanks': 6775,\n",
       " 'shameful': 7845,\n",
       " 'obstinate': 33595,\n",
       " 'trending': 65593,\n",
       " \"\\x91curious'\": 60019,\n",
       " 'iwuetdid': 86714,\n",
       " \"'from\": 30407,\n",
       " \"wenders's\": 73214,\n",
       " 'stockholm': 21144,\n",
       " 'pounded': 22476,\n",
       " 'palettes': 47030,\n",
       " 'philipps': 20126,\n",
       " \"'manos\": 47484,\n",
       " 'visualise': 81521,\n",
       " 'justness': 58295,\n",
       " \"gyllenhaal's\": 41357,\n",
       " 'breakthrough': 9016,\n",
       " 'storyville': 41994,\n",
       " 'resolved': 6269,\n",
       " 'demerille': 81006,\n",
       " 'mcconaughey': 15374,\n",
       " 'fictionalizes': 41571,\n",
       " 'dinos': 21989,\n",
       " 'groener': 45367,\n",
       " 'resuming': 41540,\n",
       " \"cuba's\": 27754,\n",
       " 'whately': 53680,\n",
       " \"talent'\": 65744,\n",
       " 'parminder': 18341,\n",
       " 'petto': 24570,\n",
       " \"ollie'\": 86330,\n",
       " 'donuts': 22780,\n",
       " 'robin': 2160,\n",
       " 'grinds': 21881,\n",
       " 'untractable': 66340,\n",
       " 'crayola': 58539,\n",
       " 'folies': 86282,\n",
       " 'warbling': 20736,\n",
       " 'forster': 24356,\n",
       " \"needle's\": 63216,\n",
       " 'kicker': 15179,\n",
       " 'grrrrrr': 73758,\n",
       " 'typhoid': 74879,\n",
       " \"'los\": 53658,\n",
       " 'persuade': 10853,\n",
       " 'vculek': 42211,\n",
       " 'stunned': 5020,\n",
       " 'protractor': 53696,\n",
       " 'negotiation': 18660,\n",
       " \"farrel's\": 61136,\n",
       " 'cloyingly': 63682,\n",
       " 'grave': 2619,\n",
       " \"beggar's\": 54688,\n",
       " 'tequila': 23610,\n",
       " \"gwynne's\": 44104,\n",
       " 'savour': 24994,\n",
       " 'fishburn': 35550,\n",
       " 'barricaded': 78889,\n",
       " 'declan': 64471,\n",
       " 'money\\x85': 41729,\n",
       " 'gable': 6375,\n",
       " 'ranching': 49025,\n",
       " 'slaj': 79277,\n",
       " 'lynch': 2216,\n",
       " 'conservativism': 69615,\n",
       " 'hound': 12400,\n",
       " 'unshakeable': 49496,\n",
       " 'margheriti': 20127,\n",
       " 'thackeray': 63298,\n",
       " 'harper': 13319,\n",
       " 'foes': 14752,\n",
       " 'infancy': 19466,\n",
       " '7½th': 57648,\n",
       " 'informer': 8393,\n",
       " 'rejuvinated': 73476,\n",
       " 'stupendously': 37989,\n",
       " 'harrass': 85389,\n",
       " 'lifelong': 10136,\n",
       " 'hmapk': 88525,\n",
       " 'esophagus': 31588,\n",
       " 'lung': 9611,\n",
       " 'sanchez': 15963,\n",
       " 'heroine': 1883,\n",
       " 'entries': 7606,\n",
       " 'again\\x85': 37662,\n",
       " 'skimmed': 19245,\n",
       " 'nutt': 53143,\n",
       " 'divided': 7569,\n",
       " 'uncultured': 44448,\n",
       " 'visible': 4684,\n",
       " 'mangle': 31371,\n",
       " 'unceremoniously': 21347,\n",
       " 'injected': 14341,\n",
       " 'irregular': 34056,\n",
       " 'wolfman': 10960,\n",
       " 'courier': 20814,\n",
       " 'microwave': 22013,\n",
       " \"'cause\": 6745,\n",
       " 'swansons': 75261,\n",
       " 'piddling': 42298,\n",
       " 'kruger': 16149,\n",
       " 'denials': 51360,\n",
       " 'alosio': 45653,\n",
       " 'brokovich': 78697,\n",
       " 'riotously': 48686,\n",
       " \"ramis'\": 67598,\n",
       " 'leia': 9883,\n",
       " 'nance': 57158,\n",
       " 'pov': 11145,\n",
       " 'hing': 84553,\n",
       " 'beren': 60230,\n",
       " 'dunbar': 55712,\n",
       " 'proclivity': 57560,\n",
       " 'hellboy': 56631,\n",
       " 'decibels': 64236,\n",
       " \"'theodore\": 40347,\n",
       " 'reverand': 32316,\n",
       " 'wfst': 56388,\n",
       " 'despirately': 63917,\n",
       " 'listeners': 24802,\n",
       " 'shakespearean': 9086,\n",
       " 'surveilling': 71643,\n",
       " 'doña': 40706,\n",
       " 'jaffe': 11924,\n",
       " 'bolo': 19442,\n",
       " 'snorer': 34586,\n",
       " 'cover': 1105,\n",
       " 'orkly': 38193,\n",
       " \"rudd's\": 49949,\n",
       " 'foreign': 2186,\n",
       " 'nibby': 52207,\n",
       " 'bugrade': 71490,\n",
       " 'portman': 9857,\n",
       " \"princes'\": 85900,\n",
       " 'contention': 14766,\n",
       " 'swashbucklers': 19757,\n",
       " 'verveen': 63557,\n",
       " 'gangstermovies': 86386,\n",
       " 'uninhibited': 16315,\n",
       " 'lesnar': 46274,\n",
       " 'ritchie\\x85': 67820,\n",
       " 'anatole': 41887,\n",
       " 'arses': 36973,\n",
       " 'incognito': 33056,\n",
       " \"'princess\": 41408,\n",
       " \"hitchcock's\": 7905,\n",
       " 'oreo': 47173,\n",
       " 'japan': 1895,\n",
       " 'allahabad': 74827,\n",
       " 'icant': 78066,\n",
       " 'rené': 22235,\n",
       " 'minimalist': 14019,\n",
       " \"samaha's\": 67673,\n",
       " 'stothart': 61882,\n",
       " 'for\\x85\\x85': 47809,\n",
       " 'partridge': 25606,\n",
       " 'exasperated': 21306,\n",
       " 'reticent': 26179,\n",
       " 'parallax': 32021,\n",
       " 'capitan': 83463,\n",
       " 'beings': 3526,\n",
       " 'incontrollable': 70825,\n",
       " 'foresee': 20666,\n",
       " 'seen\\x97a': 75001,\n",
       " 'kiesche': 84202,\n",
       " 'pyrenees': 47023,\n",
       " 'unwholesome': 37021,\n",
       " 'daybreak': 51165,\n",
       " 'pointers': 33480,\n",
       " 'hyser': 28550,\n",
       " 'loyalist': 19598,\n",
       " 'thinning': 39016,\n",
       " 'epitomized': 20456,\n",
       " 'crutch': 20282,\n",
       " 'mcfadden': 71746,\n",
       " 'schematically': 50955,\n",
       " 'int': 23034,\n",
       " 'scissors': 20566,\n",
       " \"trekkin'\": 79467,\n",
       " \"'touches'\": 63052,\n",
       " 'clarifying': 32448,\n",
       " 'titillatingly': 66941,\n",
       " 'atrociousness': 69991,\n",
       " 'mains': 62431,\n",
       " 'gelling': 84638,\n",
       " 'mausoleum': 30790,\n",
       " \"knobs'\": 55524,\n",
       " 'largesse': 40518,\n",
       " 'foment': 58309,\n",
       " 'whisked': 18567,\n",
       " 'obscures': 71173,\n",
       " 'iyer': 36984,\n",
       " 'polygram': 68721,\n",
       " 'shoddy': 5357,\n",
       " 'novel': 664,\n",
       " 'chalky': 67896,\n",
       " 'astrid': 36151,\n",
       " \"cut'\": 42935,\n",
       " 'labyrinthine': 18827,\n",
       " 'benidict': 66835,\n",
       " 'uneasy': 7968,\n",
       " \"laurence's\": 80564,\n",
       " 'rohtenburg': 74174,\n",
       " 'dejas': 70128,\n",
       " 'kaal': 44382,\n",
       " 'evolving': 11367,\n",
       " 'broadened': 67448,\n",
       " 'animates': 27444,\n",
       " 'park': 1544,\n",
       " \"beute'\": 69968,\n",
       " 'erections': 42914,\n",
       " 'egyption': 59809,\n",
       " 'duprez': 16998,\n",
       " 'hating': 7518,\n",
       " 'unflinching': 15593,\n",
       " 'carmine': 36122,\n",
       " 'enki': 55180,\n",
       " 'log': 10505,\n",
       " 'weird': 913,\n",
       " 'headedness': 72938,\n",
       " 'staff': 4002,\n",
       " 'bacri': 81636,\n",
       " 'fathoming': 58270,\n",
       " 'commitophobe': 54342,\n",
       " \"seaman's\": 86496,\n",
       " \"'star'actors\": 84623,\n",
       " 'pampering': 43243,\n",
       " 'narrate': 20003,\n",
       " 'nickelodeon': 13999,\n",
       " 'movive': 70872,\n",
       " \"'jacknife'\": 73227,\n",
       " 'concorde': 23451,\n",
       " 'equation': 12696,\n",
       " 'paneled': 66008,\n",
       " \"'after\": 43367,\n",
       " 'allowing': 3495,\n",
       " 'pero': 40475,\n",
       " 'zooey': 29677,\n",
       " 'anand': 17364,\n",
       " \"evidence'\": 85174,\n",
       " 'fantasic': 65180,\n",
       " \"'wife'\": 54319,\n",
       " 'memorex': 51288,\n",
       " 'werewolves': 6683,\n",
       " \"harrington's\": 32739,\n",
       " \"pelle's\": 86744,\n",
       " 'detractor': 39975,\n",
       " 'mila': 30384,\n",
       " 'greeting': 20357,\n",
       " 'plantage': 42016,\n",
       " 'smells': 14271,\n",
       " 'donohoe': 58020,\n",
       " \"itchy's\": 57067,\n",
       " 'utlimately': 46020,\n",
       " 'kasey': 36702,\n",
       " 'pickings': 30181,\n",
       " 'compensations': 33542,\n",
       " 'firework': 73741,\n",
       " \"'go'\": 87647,\n",
       " 'relayed': 27554,\n",
       " 'wages': 19183,\n",
       " 'famdamily': 79477,\n",
       " 'kafkanian': 78234,\n",
       " 'thunder': 7720,\n",
       " 'fitzs': 60144,\n",
       " 'architect': 8943,\n",
       " 'polically': 62757,\n",
       " \"'awakenings'\": 59082,\n",
       " \"lando's\": 34437,\n",
       " 'bonaire': 60197,\n",
       " 'croft': 16271,\n",
       " 'steenburgen': 31748,\n",
       " 'stacey': 14663,\n",
       " \"borgnine's\": 37174,\n",
       " 'tarquin': 38681,\n",
       " 'too\\x85': 50215,\n",
       " 'subhuman': 31751,\n",
       " 'mechapiloting': 69281,\n",
       " 'devji': 69938,\n",
       " 'memorabilia': 25992,\n",
       " 'intimacies': 58105,\n",
       " 'parrying': 70230,\n",
       " 'led': 1635,\n",
       " 'cryogenically': 62203,\n",
       " 'chiselled': 41558,\n",
       " 'clergy': 25702,\n",
       " 'twisty': 13148,\n",
       " 'roberte': 43850,\n",
       " 'cooled': 37978,\n",
       " 'masque': 87400,\n",
       " \"silverstone's\": 49102,\n",
       " 'alphaville': 44336,\n",
       " 'esrechowitz': 80986,\n",
       " 'theron': 12833,\n",
       " 'shortening': 23743,\n",
       " 'rubell': 24867,\n",
       " 'characters\\x97the': 76726,\n",
       " 'carrol': 31567,\n",
       " 'fury': 5114,\n",
       " 'ifs': 25945,\n",
       " 'gook': 51450,\n",
       " 'dastak': 74133,\n",
       " 'shrek\\x85\\x85\\x85\\x85': 84796,\n",
       " 'surfers': 9528,\n",
       " 'underlays': 61187,\n",
       " 'werent': 41935,\n",
       " 'featurettes': 20542,\n",
       " 'cries': 6513,\n",
       " 'krypyonite': 60623,\n",
       " 'todo': 85607,\n",
       " 'evoke': 7976,\n",
       " 'proscribed': 44811,\n",
       " 'atilla': 67346,\n",
       " 'merchants': 35106,\n",
       " 'ufern': 56841,\n",
       " 'bishoff': 45118,\n",
       " 'metasonix': 57712,\n",
       " \"blind'\": 84213,\n",
       " \"caeser's\": 46444,\n",
       " 'angharad': 76792,\n",
       " 'kilograms': 65123,\n",
       " 'distiguished': 55304,\n",
       " 'damion': 45440,\n",
       " 'sanechaos': 73544,\n",
       " \"toto's\": 78245,\n",
       " 'whiskers': 28153,\n",
       " 'foree': 17067,\n",
       " 'guffaws': 30564,\n",
       " 'zenith': 18811,\n",
       " 'kerb': 80602,\n",
       " 'profundity': 20966,\n",
       " \"did'not\": 43723,\n",
       " 'beleive': 37963,\n",
       " 'xenomorphs': 78274,\n",
       " 'etta': 67257,\n",
       " \"com's\": 42470,\n",
       " 'playthings': 46985,\n",
       " 'oasis': 18622,\n",
       " 'messaging': 25952,\n",
       " 'muxmäuschenstill': 58719,\n",
       " \"hitman's\": 56404,\n",
       " 'summers': 16287,\n",
       " 'honore': 82050,\n",
       " 'attentively': 70316,\n",
       " 'unattractiveness': 36864,\n",
       " 'pivots': 44035,\n",
       " 'odaka': 60788,\n",
       " 'sensed': 24460,\n",
       " \"'resigned'\": 72274,\n",
       " 'tenebre': 75957,\n",
       " 'keena': 61754,\n",
       " 'ellington': 23725,\n",
       " 'rocca': 49738,\n",
       " \"'explained'\": 72310,\n",
       " '66er': 80395,\n",
       " 'hocking': 81410,\n",
       " 'overpraise': 59041,\n",
       " 'krebs': 86584,\n",
       " 'enamored': 15569,\n",
       " 'arvo': 72811,\n",
       " \"tsukamoto's\": 66058,\n",
       " 'aerodynamic': 61320,\n",
       " 'scouring': 37309,\n",
       " 'ophüls': 56149,\n",
       " \"'horny\": 61575,\n",
       " 'arahan': 42757,\n",
       " 'holocaust': 6221,\n",
       " 'manchus': 43295,\n",
       " 'eyewitness': 25213,\n",
       " \"'asked'\": 66092,\n",
       " 'aussi': 72105,\n",
       " \"grace's\": 22263,\n",
       " 'paheli': 72159,\n",
       " 'hlots': 39342,\n",
       " 'ruing': 78152,\n",
       " 'gianni': 27397,\n",
       " \"60'ies\": 53415,\n",
       " 'bellhop': 50848,\n",
       " 'sitting': 1263,\n",
       " 'firefall': 59332,\n",
       " 'wanton': 26098,\n",
       " 'sheryll': 88295,\n",
       " 'opposites': 15003,\n",
       " 'ripe': 11792,\n",
       " 'wichita': 23362,\n",
       " 'amputee': 30312,\n",
       " 'brocksmith': 83843,\n",
       " 'grover': 31233,\n",
       " 'munoz': 86309,\n",
       " 'hashes': 76685,\n",
       " 'hoists': 46825,\n",
       " 'buttocks': 28052,\n",
       " 'juggles': 48781,\n",
       " 'mew': 54192,\n",
       " 'guiltlessly': 56347,\n",
       " 'bourgeois': 12842,\n",
       " 'forged': 21838,\n",
       " 'exercise': 3432,\n",
       " 'insecurity': 20598,\n",
       " 'investigators': 18282,\n",
       " 'coarseness': 42890,\n",
       " \"mazovia's\": 61823,\n",
       " 'glitters': 88227,\n",
       " 'carrere': 16742,\n",
       " 'kasam': 53419,\n",
       " 'waterson': 66687,\n",
       " \"club'\": 29741,\n",
       " 'adjunct': 75622,\n",
       " \"clients'\": 74672,\n",
       " 'stewardship': 42072,\n",
       " 'hoodwinks': 74095,\n",
       " 'connaughton': 54093,\n",
       " 'ozarks': 79854,\n",
       " \"bus'\": 45027,\n",
       " 'goblins': 25670,\n",
       " 'advert': 16503,\n",
       " 'showiness': 80867,\n",
       " 'austrian': 11910,\n",
       " \"lizards'\": 62345,\n",
       " 'pogo': 38131,\n",
       " 'overplay': 24593,\n",
       " 'aborting': 82256,\n",
       " 'recouping': 75260,\n",
       " 'sossman': 43930,\n",
       " \"alsobrook's\": 82801,\n",
       " 'remy': 21203,\n",
       " 'emotions': 1435,\n",
       " \"question'\": 42043,\n",
       " 'naushads': 82819,\n",
       " \"colman's\": 18281,\n",
       " 'disjointing': 68885,\n",
       " 'misogynistic': 9972,\n",
       " 'impersonal': 21472,\n",
       " \"phillip's\": 22353,\n",
       " 'dead\\x97only': 77331,\n",
       " 'cadena': 61983,\n",
       " 'rouveroy': 38668,\n",
       " '2h30': 58407,\n",
       " 'wading': 28165,\n",
       " 'mania': 18180,\n",
       " 'insufficient': 17167,\n",
       " 'yugo': 72334,\n",
       " '1s': 33405,\n",
       " 'exponents': 42340,\n",
       " \"someone's\": 4469,\n",
       " 'propagate': 82372,\n",
       " \"prowlin'\": 71191,\n",
       " 'flroiane': 71886,\n",
       " \"thugs'\": 81291,\n",
       " 'av': 35570,\n",
       " 'castillian': 64237,\n",
       " 'glamorized': 21503,\n",
       " 'superimpose': 40650,\n",
       " 'amicable': 42369,\n",
       " 'whistler': 19804,\n",
       " 'featured': 2558,\n",
       " 'relationships': 1516,\n",
       " 'forties\\x85': 79226,\n",
       " \"alway's\": 56134,\n",
       " 'exploded': 13375,\n",
       " 'altogether': 3899,\n",
       " 'stephen': 1657,\n",
       " 'mcnicol': 25599,\n",
       " 'creepers': 22424,\n",
       " \"'hamlet\": 65104,\n",
       " 'two': 104,\n",
       " 'sidwell': 57090,\n",
       " \"'sky\": 46746,\n",
       " 'weatherly': 47642,\n",
       " \"'prefer\": 65050,\n",
       " 'siddons': 79658,\n",
       " 'unsteadiness': 53081,\n",
       " 'flowers': 5790,\n",
       " 'vcrs': 27794,\n",
       " 'diffident': 21654,\n",
       " 'cutout': 19068,\n",
       " \"sivan's\": 63069,\n",
       " \"europa'\": 54917,\n",
       " 'nikopol': 48819,\n",
       " 'baring': 21523,\n",
       " 'definently': 86987,\n",
       " \"hush'\": 65802,\n",
       " 'mcanally': 16819,\n",
       " 'chaffing': 57392,\n",
       " 'perier': 61002,\n",
       " 'ireland': 3954,\n",
       " 'category': 2382,\n",
       " 'inde': 54039,\n",
       " 'reymond': 72518,\n",
       " \"one''godzilla''csi\": 53461,\n",
       " \"bikini's\": 58718,\n",
       " 'kou': 43031,\n",
       " 'webbed': 40276,\n",
       " 'canoodling': 65435,\n",
       " 'trespassing': 31070,\n",
       " 'overacting': 4789,\n",
       " \"gaillardia's\": 61381,\n",
       " 'sexually': 3372,\n",
       " 'vindictively': 37437,\n",
       " 'totalitarian': 17085,\n",
       " '140': 15852,\n",
       " 'misfortunate': 55165,\n",
       " \"pamela's\": 62028,\n",
       " 'yaphet': 15967,\n",
       " 'severin': 78801,\n",
       " 'testament': 4961,\n",
       " 'tortuously': 36780,\n",
       " 'teshigahara': 79817,\n",
       " 'spawning': 32810,\n",
       " 'diego': 7834,\n",
       " 'edition”': 76464,\n",
       " 'baaaaaad': 41809,\n",
       " 'claims\\x85': 72935,\n",
       " 'squeeze': 9531,\n",
       " 'gardeners': 62656,\n",
       " 'demonstrations': 26757,\n",
       " \"witherspooon's\": 65519,\n",
       " 'chimeric': 77528,\n",
       " 'instructed': 16730,\n",
       " 'ideas': 1005,\n",
       " 'freebird': 17187,\n",
       " 'cynically': 24335,\n",
       " 'lewis': 2072,\n",
       " 'opted': 12764,\n",
       " \"'dan\": 82586,\n",
       " 'flutes': 40097,\n",
       " 'zelig': 76033,\n",
       " 'clacking': 45350,\n",
       " 'pasternak': 39698,\n",
       " 'bennet': 39106,\n",
       " \"'nightmare\": 43943,\n",
       " 'cinemablend': 41778,\n",
       " 'diametrically': 29119,\n",
       " 'yaaaaaaaaaaaaaawwwwwwwwwwwwwwwwwnnnnnnnnnnnnn': 80158,\n",
       " 'classicism': 56429,\n",
       " 'whishaw': 36913,\n",
       " 'reinforced': 12926,\n",
       " \"grass'\": 40298,\n",
       " 'shayaris': 85621,\n",
       " 'searchlight': 55821,\n",
       " 'hauser': 14018,\n",
       " 'er': 6637,\n",
       " \"humphrey'\": 86792,\n",
       " 'eventuality': 60301,\n",
       " 'seadly': 69314,\n",
       " 'treasure': 2525,\n",
       " 'categorizations': 80031,\n",
       " 'bums': 14630,\n",
       " 'businesstiger': 72242,\n",
       " 'dread': 6246,\n",
       " 'scarefest': 82515,\n",
       " \"'derek\": 80584,\n",
       " 'reawakening': 39674,\n",
       " 'publicly': 13741,\n",
       " \"slim's\": 63812,\n",
       " \"'carmen\": 56779,\n",
       " 'prejudices': 9003,\n",
       " \"21's\": 59216,\n",
       " 'panegyric': 41680,\n",
       " 'levant': 10713,\n",
       " 'pretenses': 18643,\n",
       " 'compering': 69804,\n",
       " \"mero's\": 77313,\n",
       " 'pennsylvania': 21068,\n",
       " 'utilise': 31597,\n",
       " 'clobber': 61347,\n",
       " 'ingwasted': 72526,\n",
       " 'chapple': 72478,\n",
       " 'boiling': 12990,\n",
       " 'appropriates': 88519,\n",
       " \"booth's\": 30696,\n",
       " \"'pandora's\": 72837,\n",
       " 'pint': 23306,\n",
       " 'francisco': 3695,\n",
       " 'overdue': 17373,\n",
       " 'alan': 1608,\n",
       " 'aflame': 50069,\n",
       " 'established': 2918,\n",
       " 'activist': 11805,\n",
       " 'leaning': 12332,\n",
       " 'honor\\x85': 74902,\n",
       " 'happpeniiiinngggg': 54009,\n",
       " 'lesbos': 26852,\n",
       " 'gershuny': 68002,\n",
       " 'coils': 50849,\n",
       " 'why': 135,\n",
       " \"'complete'\": 46983,\n",
       " \"'every\": 34821,\n",
       " 'afghan': 24121,\n",
       " 'flashdance': 17127,\n",
       " ...}"
      ]
     },
     "execution_count": 18,
     "metadata": {},
     "output_type": "execute_result"
    }
   ],
   "source": [
    "word_index = imdb.get_word_index()  # 将一个单词映射为一个整数索引的字典\n",
    "word_index"
   ]
  },
  {
   "cell_type": "code",
   "execution_count": 19,
   "metadata": {
    "collapsed": true
   },
   "outputs": [],
   "source": [
    "reverse_word_index = dict([(value, key) for (key, value) in word_index.items()])  # 键值颠倒，将整数索引映射为单词\n",
    "decoded_review = ' '.join([reverse_word_index.get(i-3, '?') for i in train_data[0]]) # 将评论解码，将索引减去3,由于0,1,2是填充"
   ]
  },
  {
   "cell_type": "code",
   "execution_count": 20,
   "metadata": {
    "collapsed": true,
    "scrolled": true
   },
   "outputs": [],
   "source": [
    "# 准备数据\n",
    "\n",
    "# 将整数序列编码为二进制矩阵\n",
    "import numpy as np\n",
    "\n",
    "def vectorize_squences(squences, dimension=10000):\n",
    "    results = np.zeros((len(squences), dimension))\n",
    "    for i, sequence in enumerate(squences):\n",
    "        results[i, sequence] = 1.\n",
    "        return results"
   ]
  },
  {
   "cell_type": "code",
   "execution_count": 21,
   "metadata": {},
   "outputs": [
    {
     "data": {
      "text/plain": [
       "array([ 0.,  1.,  1., ...,  0.,  0.,  0.])"
      ]
     },
     "execution_count": 21,
     "metadata": {},
     "output_type": "execute_result"
    }
   ],
   "source": [
    "# 将训练和测试数据向量化，采用one-hot编码\n",
    "\n",
    "x_train = vectorize_squences(train_data)\n",
    "x_test = vectorize_squences(test_data)\n",
    "x_train[0]"
   ]
  },
  {
   "cell_type": "code",
   "execution_count": 22,
   "metadata": {},
   "outputs": [
    {
     "data": {
      "text/plain": [
       "1.0"
      ]
     },
     "execution_count": 22,
     "metadata": {},
     "output_type": "execute_result"
    }
   ],
   "source": [
    "# 标签向量化\n",
    "y_train = np.asarray((train_labels).astype('float32'))\n",
    "y_test = np.asarray((test_labels).astype('float32'))\n",
    "y_train[0]"
   ]
  },
  {
   "cell_type": "code",
   "execution_count": 28,
   "metadata": {
    "collapsed": true
   },
   "outputs": [],
   "source": [
    "# 构建网络\n",
    "\n",
    "##模型定义\n",
    "from keras import models\n",
    "from keras import layers\n",
    "\n",
    "model = models.Sequential()\n",
    "model.add(layers.Dense(16, activation='relu', input_shape=(10000,)))\n",
    "model.add(layers.Dense(16, activation='relu'))\n",
    "model.add(layers.Dense(1, activation='sigmoid'))"
   ]
  },
  {
   "cell_type": "code",
   "execution_count": 29,
   "metadata": {
    "collapsed": true
   },
   "outputs": [],
   "source": [
    "# 编译模型\n",
    "\n",
    "model.compile(optimizer='rmsprop', loss='binary_crossentropy', metrics=['accuracy'])"
   ]
  },
  {
   "cell_type": "code",
   "execution_count": 30,
   "metadata": {
    "collapsed": true
   },
   "outputs": [],
   "source": [
    "# 配置优化器\n",
    "\n",
    "from keras import optimizers\n",
    "\n",
    "model.compile(optimizer=optimizers.RMSprop(lr=0.001), loss='binary_crossentropy', metrics=['accuracy'])"
   ]
  },
  {
   "cell_type": "code",
   "execution_count": 31,
   "metadata": {
    "collapsed": true
   },
   "outputs": [],
   "source": [
    "# 使用自定义的损失和指标\n",
    "\n",
    "from keras import losses\n",
    "from keras import metrics\n",
    "\n",
    "\n",
    "model.compile(optimizer=optimizers.RMSprop(lr=0.001),loss=losses.binary_crossentropy, metrics=[metrics.binary_accuracy])"
   ]
  },
  {
   "cell_type": "code",
   "execution_count": 32,
   "metadata": {
    "collapsed": true
   },
   "outputs": [],
   "source": [
    "# 留出验证集---------将原始训练数据留出10000个样本作为验证集合\n",
    "\n",
    "x_val = x_train[:10000]\n",
    "partial_x_train = x_train[10000:]\n",
    "\n",
    "y_val = y_train[:10000]\n",
    "partial_y_train = y_train[10000:]"
   ]
  },
  {
   "cell_type": "code",
   "execution_count": 33,
   "metadata": {},
   "outputs": [
    {
     "name": "stdout",
     "output_type": "stream",
     "text": [
      "Train on 15000 samples, validate on 10000 samples\n",
      "Epoch 1/20\n",
      "15000/15000 [==============================] - 3s - loss: 0.6931 - acc: 0.5035 - val_loss: 0.6932 - val_acc: 0.4947\n",
      "Epoch 2/20\n",
      "15000/15000 [==============================] - 2s - loss: 0.6931 - acc: 0.5035 - val_loss: 0.6932 - val_acc: 0.4947\n",
      "Epoch 3/20\n",
      "15000/15000 [==============================] - 2s - loss: 0.6931 - acc: 0.5035 - val_loss: 0.6932 - val_acc: 0.4947\n",
      "Epoch 4/20\n",
      "15000/15000 [==============================] - 2s - loss: 0.6931 - acc: 0.5035 - val_loss: 0.6932 - val_acc: 0.4947\n",
      "Epoch 5/20\n",
      "15000/15000 [==============================] - 2s - loss: 0.6931 - acc: 0.5035 - val_loss: 0.6932 - val_acc: 0.4947\n",
      "Epoch 6/20\n",
      "15000/15000 [==============================] - 2s - loss: 0.6931 - acc: 0.5035 - val_loss: 0.6932 - val_acc: 0.4947\n",
      "Epoch 7/20\n",
      "15000/15000 [==============================] - 2s - loss: 0.6931 - acc: 0.5035 - val_loss: 0.6933 - val_acc: 0.4947\n",
      "Epoch 8/20\n",
      "15000/15000 [==============================] - 2s - loss: 0.6931 - acc: 0.5035 - val_loss: 0.6932 - val_acc: 0.4947\n",
      "Epoch 9/20\n",
      "15000/15000 [==============================] - 3s - loss: 0.6931 - acc: 0.5035 - val_loss: 0.6933 - val_acc: 0.4947\n",
      "Epoch 10/20\n",
      "15000/15000 [==============================] - 2s - loss: 0.6931 - acc: 0.5035 - val_loss: 0.6932 - val_acc: 0.4947\n",
      "Epoch 11/20\n",
      "15000/15000 [==============================] - 2s - loss: 0.6931 - acc: 0.5035 - val_loss: 0.6933 - val_acc: 0.4947\n",
      "Epoch 12/20\n",
      "15000/15000 [==============================] - 2s - loss: 0.6931 - acc: 0.5035 - val_loss: 0.6933 - val_acc: 0.4947\n",
      "Epoch 13/20\n",
      "15000/15000 [==============================] - 2s - loss: 0.6931 - acc: 0.5035 - val_loss: 0.6933 - val_acc: 0.4947\n",
      "Epoch 14/20\n",
      "15000/15000 [==============================] - 2s - loss: 0.6931 - acc: 0.5035 - val_loss: 0.6932 - val_acc: 0.4947\n",
      "Epoch 15/20\n",
      "15000/15000 [==============================] - 2s - loss: 0.6931 - acc: 0.5035 - val_loss: 0.6932 - val_acc: 0.4947\n",
      "Epoch 16/20\n",
      "15000/15000 [==============================] - 2s - loss: 0.6931 - acc: 0.5035 - val_loss: 0.6932 - val_acc: 0.4947\n",
      "Epoch 17/20\n",
      "15000/15000 [==============================] - 2s - loss: 0.6931 - acc: 0.5035 - val_loss: 0.6932 - val_acc: 0.4947\n",
      "Epoch 18/20\n",
      "15000/15000 [==============================] - 2s - loss: 0.6931 - acc: 0.5035 - val_loss: 0.6932 - val_acc: 0.4947\n",
      "Epoch 19/20\n",
      "15000/15000 [==============================] - 2s - loss: 0.6931 - acc: 0.5035 - val_loss: 0.6932 - val_acc: 0.4947\n",
      "Epoch 20/20\n",
      "15000/15000 [==============================] - 2s - loss: 0.6931 - acc: 0.5035 - val_loss: 0.6932 - val_acc: 0.4947\n"
     ]
    }
   ],
   "source": [
    "#训练模型\n",
    "\n",
    "model.compile(optimizer='rmsprop',\n",
    "loss='binary_crossentropy',\n",
    "metrics=['acc'])\n",
    "\n",
    "history = model.fit(partial_x_train,\n",
    "partial_y_train,\n",
    "epochs=20,\n",
    "batch_size=512,\n",
    "validation_data=(x_val, y_val))"
   ]
  },
  {
   "cell_type": "code",
   "execution_count": 34,
   "metadata": {},
   "outputs": [
    {
     "data": {
      "text/plain": [
       "dict_keys(['val_loss', 'val_acc', 'acc', 'loss'])"
      ]
     },
     "execution_count": 34,
     "metadata": {},
     "output_type": "execute_result"
    }
   ],
   "source": [
    "history_dict = history.history  # model.fit()方法返回一个history对象，调用此对象下的history方法，可以查看训练中的所有数据\n",
    "history_dict.keys()  # 对应训练和测试中的监控指标"
   ]
  },
  {
   "cell_type": "code",
   "execution_count": 35,
   "metadata": {},
   "outputs": [
    {
     "data": {
      "image/png": "[encoded data removed]",
      "text/plain": [
       "<matplotlib.figure.Figure at 0x7fda7cba2e48>"
      ]
     },
     "metadata": {},
     "output_type": "display_data"
    }
   ],
   "source": [
    "# 绘制训练损失和验证损失\n",
    "\n",
    "import matplotlib.pyplot as plt\n",
    "\n",
    "%matplotlib inline\n",
    "\n",
    "history_dict = history.history\n",
    "loss_values = history_dict['loss']\n",
    "val_loss_values = history_dict['val_loss']\n",
    "\n",
    "epochs = range(1, len(loss_values) + 1)\n",
    "plt.plot(epochs, loss_values, 'bo', label='Training loss')\n",
    "plt.plot(epochs, val_loss_values, 'b', label='Validation loss')\n",
    "plt.title('Training and validation loss')\n",
    "plt.xlabel('Epochs')\n",
    "plt.ylabel('Loss')\n",
    "plt.legend();"
   ]
  },
  {
   "cell_type": "code",
   "execution_count": 36,
   "metadata": {},
   "outputs": [
    {
     "data": {
      "image/png": "[encoded data removed]",
      "text/plain": [
       "<matplotlib.figure.Figure at 0x7fda7cba2b00>"
      ]
     },
     "metadata": {},
     "output_type": "display_data"
    }
   ],
   "source": [
    "# 绘制训练精度和验证精度\n",
    "plt.clf()\n",
    "acc = history_dict['acc']\n",
    "val_acc = history_dict['val_acc']\n",
    "\n",
    "plt.plot(epochs, acc, 'b', label='Traning acc')\n",
    "plt.plot(epochs, val_acc, 'r', label='Validation acc')\n",
    "plt.title(\"Training ahd Validation accuracy\")\n",
    "plt.xlabel(\"Epochs\")\n",
    "plt.ylabel(\"Accuracy\")\n",
    "plt.legend();"
   ]
  },
  {
   "cell_type": "code",
   "execution_count": 37,
   "metadata": {},
   "outputs": [
    {
     "name": "stdout",
     "output_type": "stream",
     "text": [
      "Epoch 1/4\n",
      "25000/25000 [==============================] - 3s - loss: 0.6932 - acc: 0.4985     \n",
      "Epoch 2/4\n",
      "25000/25000 [==============================] - 3s - loss: 0.6932 - acc: 0.4982     \n",
      "Epoch 3/4\n",
      "25000/25000 [==============================] - 3s - loss: 0.6932 - acc: 0.5000     \n",
      "Epoch 4/4\n",
      "25000/25000 [==============================] - 3s - loss: 0.6931 - acc: 0.4988     \n",
      "24896/25000 [============================>.] - ETA: 0s"
     ]
    }
   ],
   "source": [
    "# 从头开始训练一个模型\n",
    "\n",
    "model = models.Sequential()\n",
    "model.add(layers.Dense(32, activation='relu', input_shape=(10000,)))\n",
    "model.add(layers.Dense(32, activation='relu'))\n",
    "model.add(layers.Dense(1, activation='sigmoid'))\n",
    "\n",
    "model.compile(optimizer='rmsprop', loss='binary_crossentropy', metrics=['accuracy'])\n",
    "model.fit(x_train, y_train, epochs=4, batch_size=512)\n",
    "results = model.evaluate(x_test, y_test)"
   ]
  },
  {
   "cell_type": "code",
   "execution_count": 38,
   "metadata": {},
   "outputs": [
    {
     "data": {
      "text/plain": [
       "[0.69313981105804445, 0.5]"
      ]
     },
     "execution_count": 38,
     "metadata": {},
     "output_type": "execute_result"
    }
   ],
   "source": [
    "results"
   ]
  },
  {
   "cell_type": "code",
   "execution_count": 39,
   "metadata": {},
   "outputs": [
    {
     "data": {
      "text/plain": [
       "array([[ 0.67915189],\n",
       "       [ 0.50153625],\n",
       "       [ 0.50153625],\n",
       "       ..., \n",
       "       [ 0.50153625],\n",
       "       [ 0.50153625],\n",
       "       [ 0.50153625]], dtype=float32)"
      ]
     },
     "execution_count": 39,
     "metadata": {},
     "output_type": "execute_result"
    }
   ],
   "source": [
    "model.predict(x_test)"
   ]
  },
  {
   "cell_type": "markdown",
   "metadata": {},
   "source": [
    "### 二分类总结\n",
    "- 通常需要对原始数据进行大量预处理，以便将其转换为张量输入到神经网络中。单词序列可以编码为二进制向量，但也有其他编码方式\n",
    "- 带有relu激活的Dense层堆叠，可以解决很多种问题（包括情感分类），你可能会经常用到这种模型\n",
    "- 对于二分类问题（两个输出类别），网络的最后一层应该是只有一个单元并使用sigmoid激活的Dense层，网络输出应该是0~1范围内的标量，表示概率值\n",
    "- 对于二分类问题的 sigmoid 标量输出，你应该使用 binary_crossentropy 损失函数\n",
    "- 无论你的问题是什么，rmsprop优化器通常都是足够好的选择\n",
    "- 随着神经网络在训练数据上的表现越来越好，模型最终会过拟合，并在前所未见的数据上得到越来越差的结果,一定要一直监控模型在训练集之外的数据上的性能"
   ]
  },
  {
   "cell_type": "markdown",
   "metadata": {
    "collapsed": true
   },
   "source": [
    "# demo2:路透社新闻多分类\n",
    "- 每个数据点只能划分到一个类别，就是单标签 多分类问题\n",
    "- 每个数据点能划分到多个类别，就是多标签 多分类问题"
   ]
  },
  {
   "cell_type": "code",
   "execution_count": null,
   "metadata": {
    "collapsed": true
   },
   "outputs": [],
   "source": [
    "from keras.datasets import reuters"
   ]
  },
  {
   "cell_type": "code",
   "execution_count": null,
   "metadata": {
    "collapsed": true
   },
   "outputs": [],
   "source": [
    "(train_data, train_labels), (test_data, test_labels) = reuters.load_data(num_words=10000)"
   ]
  },
  {
   "cell_type": "code",
   "execution_count": 42,
   "metadata": {},
   "outputs": [
    {
     "data": {
      "text/plain": [
       "8982"
      ]
     },
     "execution_count": 42,
     "metadata": {},
     "output_type": "execute_result"
    }
   ],
   "source": [
    "len(train_data)"
   ]
  },
  {
   "cell_type": "code",
   "execution_count": 43,
   "metadata": {},
   "outputs": [
    {
     "data": {
      "text/plain": [
       "2246"
      ]
     },
     "execution_count": 43,
     "metadata": {},
     "output_type": "execute_result"
    }
   ],
   "source": [
    "len(test_data)"
   ]
  },
  {
   "cell_type": "code",
   "execution_count": 44,
   "metadata": {},
   "outputs": [
    {
     "data": {
      "text/plain": [
       "31"
      ]
     },
     "execution_count": 44,
     "metadata": {},
     "output_type": "execute_result"
    }
   ],
   "source": [
    "len(train_data[10])  # 每个样本都是由单词索引组成的列表"
   ]
  },
  {
   "cell_type": "code",
   "execution_count": 45,
   "metadata": {
    "collapsed": true
   },
   "outputs": [],
   "source": [
    "len(train_data[100])\n",
    "# 将索引解锁为新闻文本\n",
    "word_index = reuters.get_word_index()\n",
    "reverse_word_index = dict([(value, key) for (key, value) in word_index.items()])\n",
    "decoded_newswire = ' '.join([reverse_word_index.get(i-3, \"?\") for i in train_data[0]])"
   ]
  },
  {
   "cell_type": "code",
   "execution_count": 46,
   "metadata": {},
   "outputs": [
    {
     "data": {
      "text/plain": [
       "3"
      ]
     },
     "execution_count": 46,
     "metadata": {},
     "output_type": "execute_result"
    }
   ],
   "source": [
    "train_labels[0]  # 第3类"
   ]
  },
  {
   "cell_type": "code",
   "execution_count": 47,
   "metadata": {
    "collapsed": true
   },
   "outputs": [],
   "source": [
    "# 准备数据----编码数据\n",
    "import numpy as np\n",
    "\n",
    "\n",
    "def vectorize_sequences(sequences, dimension=10000):\n",
    "    results = np.zeros((len(sequences), dimension))\n",
    "    for i, sequence in enumerate(sequences):\n",
    "        results[i, sequence] = 1.\n",
    "    return results\n",
    "\n",
    "\n",
    "x_train = vectorize_sequences(train_data)\n",
    "x_test = vectorize_sequences(test_data)"
   ]
  },
  {
   "cell_type": "code",
   "execution_count": 48,
   "metadata": {
    "collapsed": true
   },
   "outputs": [],
   "source": [
    "def to_one_hot(labels, dimension=46):\n",
    "    results = np.zeros((len(labels), dimension))\n",
    "    for i, label in enumerate(labels):\n",
    "        results[i, label] = 1.\n",
    "    return results\n",
    "\n",
    "one_hot_train_labels = to_one_hot(train_labels)\n",
    "one_hot_test_labels = to_one_hot(test_labels)"
   ]
  },
  {
   "cell_type": "code",
   "execution_count": 49,
   "metadata": {
    "collapsed": true
   },
   "outputs": [],
   "source": [
    "# 注意,Keras 内置方法可以实现上面这个操作\n",
    "from keras.utils.np_utils import to_categorical\n",
    "\n",
    "on_hot_train_labels = to_categorical(train_labels)\n",
    "on_hot_test_labels = to_categorical(test_labels)"
   ]
  },
  {
   "cell_type": "code",
   "execution_count": 50,
   "metadata": {
    "collapsed": true
   },
   "outputs": [],
   "source": [
    "# 构建网络\n",
    "from keras import models\n",
    "from keras import layers\n",
    "\n",
    "model = models.Sequential()\n",
    "model.add(layers.Dense(64, activation='relu', input_shape=(10000,)))\n",
    "model.add(layers.Dense(64, activation='relu'))\n",
    "model.add(layers.Dense(46, activation='softmax'))\n"
   ]
  },
  {
   "cell_type": "code",
   "execution_count": 51,
   "metadata": {},
   "outputs": [
    {
     "name": "stdout",
     "output_type": "stream",
     "text": [
      "WARNING:tensorflow:From /home/cdl/.conda/envs/py35/lib/python3.5/site-packages/keras/backend/tensorflow_backend.py:2755: calling reduce_sum (from tensorflow.python.ops.math_ops) with keep_dims is deprecated and will be removed in a future version.\n",
      "Instructions for updating:\n",
      "keep_dims is deprecated, use keepdims instead\n"
     ]
    }
   ],
   "source": [
    "# 编译模型\n",
    "model.compile(optimizer='rmsprop', loss='categorical_crossentropy', metrics=['accuracy'])"
   ]
  },
  {
   "cell_type": "code",
   "execution_count": 52,
   "metadata": {
    "collapsed": true
   },
   "outputs": [],
   "source": [
    "# 验证集\n",
    "x_val = x_train[:1000]\n",
    "partial_x_train = x_train[1000:]\n",
    "y_val = one_hot_train_labels[:1000]\n",
    "partial_y_train = one_hot_train_labels[1000:]"
   ]
  },
  {
   "cell_type": "code",
   "execution_count": 53,
   "metadata": {},
   "outputs": [
    {
     "name": "stdout",
     "output_type": "stream",
     "text": [
      "Train on 7982 samples, validate on 1000 samples\n",
      "Epoch 1/20\n",
      "7982/7982 [==============================] - 2s - loss: 2.5306 - acc: 0.4962 - val_loss: 1.7180 - val_acc: 0.6120\n",
      "Epoch 2/20\n",
      "7982/7982 [==============================] - 1s - loss: 1.4430 - acc: 0.6878 - val_loss: 1.3437 - val_acc: 0.7070\n",
      "Epoch 3/20\n",
      "7982/7982 [==============================] - 1s - loss: 1.0929 - acc: 0.7661 - val_loss: 1.1701 - val_acc: 0.7430\n",
      "Epoch 4/20\n",
      "7982/7982 [==============================] - 1s - loss: 0.8678 - acc: 0.8167 - val_loss: 1.0794 - val_acc: 0.7600\n",
      "Epoch 5/20\n",
      "7982/7982 [==============================] - 1s - loss: 0.7016 - acc: 0.8473 - val_loss: 0.9838 - val_acc: 0.7830\n",
      "Epoch 6/20\n",
      "7982/7982 [==============================] - 1s - loss: 0.5662 - acc: 0.8795 - val_loss: 0.9403 - val_acc: 0.8030\n",
      "Epoch 7/20\n",
      "7982/7982 [==============================] - 1s - loss: 0.4594 - acc: 0.9034 - val_loss: 0.9093 - val_acc: 0.8000\n",
      "Epoch 8/20\n",
      "7982/7982 [==============================] - 1s - loss: 0.3709 - acc: 0.9227 - val_loss: 0.9372 - val_acc: 0.7900\n",
      "Epoch 9/20\n",
      "7982/7982 [==============================] - 1s - loss: 0.3042 - acc: 0.9308 - val_loss: 0.8920 - val_acc: 0.8090\n",
      "Epoch 10/20\n",
      "7982/7982 [==============================] - 1s - loss: 0.2546 - acc: 0.9416 - val_loss: 0.9080 - val_acc: 0.8120\n",
      "Epoch 11/20\n",
      "7982/7982 [==============================] - 1s - loss: 0.2190 - acc: 0.9469 - val_loss: 0.9183 - val_acc: 0.8130\n",
      "Epoch 12/20\n",
      "7982/7982 [==============================] - 1s - loss: 0.1877 - acc: 0.9510 - val_loss: 0.9061 - val_acc: 0.8150\n",
      "Epoch 13/20\n",
      "7982/7982 [==============================] - 1s - loss: 0.1702 - acc: 0.9526 - val_loss: 0.9372 - val_acc: 0.8070\n",
      "Epoch 14/20\n",
      "7982/7982 [==============================] - 1s - loss: 0.1538 - acc: 0.9555 - val_loss: 0.9696 - val_acc: 0.8050\n",
      "Epoch 15/20\n",
      "7982/7982 [==============================] - 1s - loss: 0.1395 - acc: 0.9558 - val_loss: 0.9703 - val_acc: 0.8150\n",
      "Epoch 16/20\n",
      "7982/7982 [==============================] - 1s - loss: 0.1314 - acc: 0.9563 - val_loss: 1.0293 - val_acc: 0.8020\n",
      "Epoch 17/20\n",
      "7982/7982 [==============================] - 1s - loss: 0.1218 - acc: 0.9578 - val_loss: 1.0311 - val_acc: 0.7980\n",
      "Epoch 18/20\n",
      "7982/7982 [==============================] - 1s - loss: 0.1200 - acc: 0.9575 - val_loss: 1.0458 - val_acc: 0.8060\n",
      "Epoch 19/20\n",
      "7982/7982 [==============================] - 1s - loss: 0.1140 - acc: 0.9592 - val_loss: 1.1021 - val_acc: 0.7970\n",
      "Epoch 20/20\n",
      "7982/7982 [==============================] - 1s - loss: 0.1113 - acc: 0.9597 - val_loss: 1.0731 - val_acc: 0.8020\n"
     ]
    }
   ],
   "source": [
    "# 训练模型\n",
    "\n",
    "history = model.fit(partial_x_train,\n",
    "partial_y_train,\n",
    "epochs=20,\n",
    "batch_size=512,\n",
    "validation_data=(x_val, y_val))"
   ]
  },
  {
   "cell_type": "code",
   "execution_count": 54,
   "metadata": {},
   "outputs": [
    {
     "data": {
      "image/png": "[encoded data removed]",
      "text/plain": [
       "<matplotlib.figure.Figure at 0x7fda758efe10>"
      ]
     },
     "metadata": {},
     "output_type": "display_data"
    }
   ],
   "source": [
    "# 绘制训练损失和验证损失\n",
    "\n",
    "import matplotlib.pyplot as plt\n",
    "\n",
    "\n",
    "loss = history.history['loss']\n",
    "val_loss = history.history['val_loss']\n",
    "epochs = range(1, len(loss) + 1)\n",
    "plt.plot(epochs, loss, 'bo', label='Training loss')\n",
    "plt.plot(epochs, val_loss, 'b', label='Validation loss')\n",
    "plt.title('Training and validation loss')\n",
    "plt.xlabel('Epochs')\n",
    "plt.ylabel('Loss')\n",
    "plt.legend()\n",
    "plt.show()"
   ]
  },
  {
   "cell_type": "code",
   "execution_count": 55,
   "metadata": {},
   "outputs": [
    {
     "data": {
      "image/png": "[encoded data removed]",
      "text/plain": [
       "<matplotlib.figure.Figure at 0x7fda67b217b8>"
      ]
     },
     "metadata": {},
     "output_type": "display_data"
    }
   ],
   "source": [
    "plt.clf()  # 清空图像\n",
    "\n",
    "acc = history.history['acc']\n",
    "val_acc = history.history['val_acc']\n",
    "plt.plot(epochs, acc, 'bo', label='Training acc')\n",
    "plt.plot(epochs, val_acc, 'b', label='Validation acc')\n",
    "plt.title('Training and validation accuracy')\n",
    "plt.xlabel('Epochs')\n",
    "plt.ylabel('Accuracy')\n",
    "plt.legend()\n",
    "plt.show()"
   ]
  },
  {
   "cell_type": "code",
   "execution_count": 56,
   "metadata": {},
   "outputs": [
    {
     "name": "stdout",
     "output_type": "stream",
     "text": [
      "Train on 7982 samples, validate on 1000 samples\n",
      "Epoch 1/9\n",
      "7982/7982 [==============================] - 2s - loss: 2.5420 - acc: 0.5227 - val_loss: 1.6826 - val_acc: 0.6520\n",
      "Epoch 2/9\n",
      "7982/7982 [==============================] - 1s - loss: 1.3794 - acc: 0.7093 - val_loss: 1.2827 - val_acc: 0.7220\n",
      "Epoch 3/9\n",
      "7982/7982 [==============================] - 1s - loss: 1.0217 - acc: 0.7785 - val_loss: 1.1391 - val_acc: 0.7480\n",
      "Epoch 4/9\n",
      "7982/7982 [==============================] - 1s - loss: 0.8046 - acc: 0.8236 - val_loss: 1.0577 - val_acc: 0.7590\n",
      "Epoch 5/9\n",
      "7982/7982 [==============================] - 1s - loss: 0.6449 - acc: 0.8622 - val_loss: 0.9780 - val_acc: 0.7990\n",
      "Epoch 6/9\n",
      "7982/7982 [==============================] - 1s - loss: 0.5163 - acc: 0.8913 - val_loss: 0.9144 - val_acc: 0.8120\n",
      "Epoch 7/9\n",
      "7982/7982 [==============================] - 1s - loss: 0.4156 - acc: 0.9143 - val_loss: 0.8973 - val_acc: 0.8230\n",
      "Epoch 8/9\n",
      "7982/7982 [==============================] - 1s - loss: 0.3383 - acc: 0.9283 - val_loss: 0.8779 - val_acc: 0.8230\n",
      "Epoch 9/9\n",
      "7982/7982 [==============================] - 1s - loss: 0.2808 - acc: 0.9369 - val_loss: 0.9436 - val_acc: 0.8000\n",
      "2144/2246 [===========================>..] - ETA: 0s"
     ]
    }
   ],
   "source": [
    "# 从头开始训练一个模型\n",
    "\n",
    "model = models.Sequential()\n",
    "model.add(layers.Dense(64, activation='relu', input_shape=(10000,)))\n",
    "model.add(layers.Dense(64, activation='relu'))\n",
    "model.add(layers.Dense(46, activation='softmax'))\n",
    "model.compile(optimizer='rmsprop',\n",
    "loss='categorical_crossentropy',\n",
    "metrics=['accuracy'])\n",
    "model.fit(partial_x_train,\n",
    "partial_y_train,\n",
    "epochs=9,\n",
    "batch_size=512,\n",
    "validation_data=(x_val, y_val))\n",
    "results = model.evaluate(x_test, one_hot_test_labels)"
   ]
  },
  {
   "cell_type": "code",
   "execution_count": 57,
   "metadata": {},
   "outputs": [
    {
     "data": {
      "text/plain": [
       "[1.0259771005234757, 0.77738201251968353]"
      ]
     },
     "execution_count": 57,
     "metadata": {},
     "output_type": "execute_result"
    }
   ],
   "source": [
    "results"
   ]
  },
  {
   "cell_type": "code",
   "execution_count": 58,
   "metadata": {},
   "outputs": [
    {
     "data": {
      "text/plain": [
       "0.182546749777382"
      ]
     },
     "execution_count": 58,
     "metadata": {},
     "output_type": "execute_result"
    }
   ],
   "source": [
    "import copy\n",
    "\n",
    "test_labels_copy = copy.copy(test_labels)\n",
    "np.random.shuffle(test_labels_copy)\n",
    "hits_array = np.array(test_labels) == np.array(test_labels_copy)\n",
    "float(np.sum(hits_array)) / len(test_labels)"
   ]
  },
  {
   "cell_type": "code",
   "execution_count": 59,
   "metadata": {
    "scrolled": true
   },
   "outputs": [
    {
     "name": "stdout",
     "output_type": "stream",
     "text": [
      "(2246, 46)\n",
      "(46,)\n",
      "[  1.00912157e-05   1.19087592e-04   3.80152669e-05   9.67085600e-01\n",
      "   2.03245990e-02   1.24851596e-07   9.15254059e-05   4.08356464e-05\n",
      "   3.97624588e-03   2.98082500e-06   3.44860455e-05   1.38009386e-03\n",
      "   6.02194596e-05   1.77831243e-05   5.43087026e-06   2.19215635e-05\n",
      "   1.15143252e-03   2.09815858e-04   3.60974431e-04   1.12618390e-03\n",
      "   1.12750195e-03   5.06756420e-04   7.14546013e-06   6.68171851e-05\n",
      "   1.11685831e-05   2.58292886e-04   3.48107096e-06   2.50251378e-05\n",
      "   7.10079530e-06   1.49521380e-04   2.88077543e-04   1.69506849e-04\n",
      "   1.41954224e-05   5.92415308e-05   3.90965979e-05   2.33180090e-05\n",
      "   1.80145420e-04   4.92993458e-05   1.33892376e-04   3.28474940e-04\n",
      "   3.39655089e-05   4.16744500e-04   2.07335620e-06   2.53288690e-05\n",
      "   6.93582251e-06   9.40958307e-06]\n"
     ]
    }
   ],
   "source": [
    "# 在新数据上生成预测结果\n",
    "\n",
    "predictions = model.predict(x_test)\n",
    "print(predictions.shape)\n",
    "print(predictions[0].shape)\n",
    "print(predictions[0])  # 每个元素是用softmax回归预测的每个类别的概率"
   ]
  },
  {
   "cell_type": "code",
   "execution_count": 60,
   "metadata": {},
   "outputs": [
    {
     "data": {
      "text/plain": [
       "0.99999994"
      ]
     },
     "execution_count": 60,
     "metadata": {},
     "output_type": "execute_result"
    }
   ],
   "source": [
    "np.sum(predictions[0])  # predictions[0]所有元素的总和为1,因为概率总和为1"
   ]
  },
  {
   "cell_type": "code",
   "execution_count": 61,
   "metadata": {},
   "outputs": [
    {
     "data": {
      "text/plain": [
       "3"
      ]
     },
     "execution_count": 61,
     "metadata": {},
     "output_type": "execute_result"
    }
   ],
   "source": [
    "np.argmax(predictions[0])  # 获得概率最大值对应元素的索引值，即预测类别的结果"
   ]
  },
  {
   "cell_type": "code",
   "execution_count": 62,
   "metadata": {},
   "outputs": [
    {
     "name": "stdout",
     "output_type": "stream",
     "text": [
      "WARNING:tensorflow:From /home/cdl/.conda/envs/py35/lib/python3.5/site-packages/keras/backend/tensorflow_backend.py:1154: calling reduce_max (from tensorflow.python.ops.math_ops) with keep_dims is deprecated and will be removed in a future version.\n",
      "Instructions for updating:\n",
      "keep_dims is deprecated, use keepdims instead\n"
     ]
    }
   ],
   "source": [
    "# 处理标签和损失的另一种方法\n",
    "\n",
    "y_train = np.array(train_labels)\n",
    "y_test = np.array(test_labels)\n",
    "\n",
    "# 对于上述的整数标签，可以使用sparse_categorical_crossentropy损失函数\n",
    "\n",
    "model.compile(optimizer='rmsprop', loss='sparse_categorical_crossentropy', metrics=['acc'])"
   ]
  },
  {
   "cell_type": "code",
   "execution_count": 63,
   "metadata": {},
   "outputs": [
    {
     "name": "stdout",
     "output_type": "stream",
     "text": [
      "Train on 7982 samples, validate on 1000 samples\n",
      "Epoch 1/20\n",
      "7982/7982 [==============================] - 2s - loss: 1.7118 - acc: 0.6262 - val_loss: 1.1708 - val_acc: 0.7360\n",
      "Epoch 2/20\n",
      "7982/7982 [==============================] - 2s - loss: 0.9081 - acc: 0.7957 - val_loss: 1.0006 - val_acc: 0.7810\n",
      "Epoch 3/20\n",
      "7982/7982 [==============================] - 2s - loss: 0.5988 - acc: 0.8690 - val_loss: 0.8795 - val_acc: 0.8250\n",
      "Epoch 4/20\n",
      "7982/7982 [==============================] - 2s - loss: 0.4058 - acc: 0.9126 - val_loss: 0.8633 - val_acc: 0.8190\n",
      "Epoch 5/20\n",
      "7982/7982 [==============================] - 2s - loss: 0.2971 - acc: 0.9347 - val_loss: 0.9086 - val_acc: 0.8060\n",
      "Epoch 6/20\n",
      "7982/7982 [==============================] - 2s - loss: 0.2274 - acc: 0.9464 - val_loss: 1.0054 - val_acc: 0.7980\n",
      "Epoch 7/20\n",
      "7982/7982 [==============================] - 2s - loss: 0.1888 - acc: 0.9494 - val_loss: 0.9377 - val_acc: 0.8190\n",
      "Epoch 8/20\n",
      "7982/7982 [==============================] - 2s - loss: 0.1728 - acc: 0.9543 - val_loss: 1.0409 - val_acc: 0.8010\n",
      "Epoch 9/20\n",
      "7982/7982 [==============================] - 2s - loss: 0.1582 - acc: 0.9546 - val_loss: 1.0382 - val_acc: 0.8100\n",
      "Epoch 10/20\n",
      "7982/7982 [==============================] - 2s - loss: 0.1484 - acc: 0.9544 - val_loss: 1.0429 - val_acc: 0.8010\n",
      "Epoch 11/20\n",
      "7982/7982 [==============================] - 2s - loss: 0.1384 - acc: 0.9563 - val_loss: 1.0352 - val_acc: 0.8110\n",
      "Epoch 12/20\n",
      "7982/7982 [==============================] - 2s - loss: 0.1344 - acc: 0.9550 - val_loss: 1.0637 - val_acc: 0.7990\n",
      "Epoch 13/20\n",
      "7982/7982 [==============================] - 2s - loss: 0.1255 - acc: 0.9558 - val_loss: 1.1696 - val_acc: 0.7850\n",
      "Epoch 14/20\n",
      "7982/7982 [==============================] - 2s - loss: 0.1209 - acc: 0.9562 - val_loss: 1.1935 - val_acc: 0.7910\n",
      "Epoch 15/20\n",
      "7982/7982 [==============================] - 2s - loss: 0.1184 - acc: 0.9555 - val_loss: 1.2208 - val_acc: 0.7910\n",
      "Epoch 16/20\n",
      "7982/7982 [==============================] - 2s - loss: 0.1121 - acc: 0.9578 - val_loss: 1.1459 - val_acc: 0.7960\n",
      "Epoch 17/20\n",
      "7982/7982 [==============================] - 2s - loss: 0.1105 - acc: 0.9573 - val_loss: 1.1327 - val_acc: 0.8030\n",
      "Epoch 18/20\n",
      "7982/7982 [==============================] - 2s - loss: 0.1058 - acc: 0.9568 - val_loss: 1.1977 - val_acc: 0.7960\n",
      "Epoch 19/20\n",
      "7982/7982 [==============================] - 2s - loss: 0.1018 - acc: 0.9585 - val_loss: 1.1557 - val_acc: 0.7920\n",
      "Epoch 20/20\n",
      "7982/7982 [==============================] - 2s - loss: 0.1000 - acc: 0.9572 - val_loss: 1.2835 - val_acc: 0.7900\n"
     ]
    },
    {
     "data": {
      "text/plain": [
       "<keras.callbacks.History at 0x7fda68212e10>"
      ]
     },
     "execution_count": 63,
     "metadata": {},
     "output_type": "execute_result"
    }
   ],
   "source": [
    "# 中间层维度足够大的重要性\n",
    "\n",
    "# 中间层的维度远远小于46,造成信息瓶颈\n",
    "\n",
    "model = models.Sequential()\n",
    "model.add(layers.Dense(64, activation='relu', input_shape=(10000,)))\n",
    "model.add(layers.Dense(128, activation='relu'))\n",
    "model.add(layers.Dense(46, activation='softmax'))\n",
    "\n",
    "model.compile(optimizer='rmsprop', loss='categorical_crossentropy', metrics=['accuracy'])\n",
    "model.fit(partial_x_train, partial_y_train, epochs=20, batch_size=128, validation_data=(x_val, y_val))\n",
    "          \n"
   ]
  },
  {
   "cell_type": "markdown",
   "metadata": {},
   "source": [
    "### 多分类总结\n",
    "- 如果要对N个类别的数据点进行分类，网络的最后一层应该是大小为N的Dense 层\n",
    "- 对于单标签、多分类问题，网络的最后一层应该使用softmax激活，这样可以输出在N个输出类别上的概率分布。\n",
    "- 这种问题的损失函数几乎总是应该使用分类交叉熵。它将网络输出的概率分布与目标的真实分布之间的距离最小化。\n",
    "- 处理多分类问题的标签有两种方法：\n",
    "    - 通过分类编码（也叫 one-hot 编码）对标签进行编码，然后使用 categorical_crossentropy 作为损失函数\n",
    "    - 将标签编码为整数，然后使用 sparse_categorical_crossentropy 损失函数\n",
    "- 如果你需要将数据划分到许多类别中，应该避免使用太小的中间层，以免在网络中造成信息瓶颈"
   ]
  },
  {
   "cell_type": "markdown",
   "metadata": {},
   "source": [
    "# demo3预测房价：回归问题"
   ]
  },
  {
   "cell_type": "code",
   "execution_count": 1,
   "metadata": {},
   "outputs": [
    {
     "name": "stderr",
     "output_type": "stream",
     "text": [
      "Using TensorFlow backend.\n"
     ]
    }
   ],
   "source": [
    "from keras.datasets import boston_housing\n",
    "\n",
    "(train_data, train_targets), (test_data, test_targets) = boston_housing.load_data()"
   ]
  },
  {
   "cell_type": "code",
   "execution_count": 2,
   "metadata": {},
   "outputs": [
    {
     "data": {
      "text/plain": [
       "(404, 13)"
      ]
     },
     "execution_count": 2,
     "metadata": {},
     "output_type": "execute_result"
    }
   ],
   "source": [
    "train_data.shape"
   ]
  },
  {
   "cell_type": "code",
   "execution_count": 3,
   "metadata": {},
   "outputs": [
    {
     "data": {
      "text/plain": [
       "(102, 13)"
      ]
     },
     "execution_count": 3,
     "metadata": {},
     "output_type": "execute_result"
    }
   ],
   "source": [
    "test_data.shape"
   ]
  },
  {
   "cell_type": "code",
   "execution_count": 4,
   "metadata": {},
   "outputs": [
    {
     "data": {
      "text/plain": [
       "array([ 15.2,  42.3,  50. ,  21.1,  17.7,  18.5,  11.3,  15.6,  15.6,\n",
       "        14.4,  12.1,  17.9,  23.1,  19.9,  15.7,   8.8,  50. ,  22.5,\n",
       "        24.1,  27.5,  10.9,  30.8,  32.9,  24. ,  18.5,  13.3,  22.9,\n",
       "        34.7,  16.6,  17.5,  22.3,  16.1,  14.9,  23.1,  34.9,  25. ,\n",
       "        13.9,  13.1,  20.4,  20. ,  15.2,  24.7,  22.2,  16.7,  12.7,\n",
       "        15.6,  18.4,  21. ,  30.1,  15.1,  18.7,   9.6,  31.5,  24.8,\n",
       "        19.1,  22. ,  14.5,  11. ,  32. ,  29.4,  20.3,  24.4,  14.6,\n",
       "        19.5,  14.1,  14.3,  15.6,  10.5,   6.3,  19.3,  19.3,  13.4,\n",
       "        36.4,  17.8,  13.5,  16.5,   8.3,  14.3,  16. ,  13.4,  28.6,\n",
       "        43.5,  20.2,  22. ,  23. ,  20.7,  12.5,  48.5,  14.6,  13.4,\n",
       "        23.7,  50. ,  21.7,  39.8,  38.7,  22.2,  34.9,  22.5,  31.1,\n",
       "        28.7,  46. ,  41.7,  21. ,  26.6,  15. ,  24.4,  13.3,  21.2,\n",
       "        11.7,  21.7,  19.4,  50. ,  22.8,  19.7,  24.7,  36.2,  14.2,\n",
       "        18.9,  18.3,  20.6,  24.6,  18.2,   8.7,  44. ,  10.4,  13.2,\n",
       "        21.2,  37. ,  30.7,  22.9,  20. ,  19.3,  31.7,  32. ,  23.1,\n",
       "        18.8,  10.9,  50. ,  19.6,   5. ,  14.4,  19.8,  13.8,  19.6,\n",
       "        23.9,  24.5,  25. ,  19.9,  17.2,  24.6,  13.5,  26.6,  21.4,\n",
       "        11.9,  22.6,  19.6,   8.5,  23.7,  23.1,  22.4,  20.5,  23.6,\n",
       "        18.4,  35.2,  23.1,  27.9,  20.6,  23.7,  28. ,  13.6,  27.1,\n",
       "        23.6,  20.6,  18.2,  21.7,  17.1,   8.4,  25.3,  13.8,  22.2,\n",
       "        18.4,  20.7,  31.6,  30.5,  20.3,   8.8,  19.2,  19.4,  23.1,\n",
       "        23. ,  14.8,  48.8,  22.6,  33.4,  21.1,  13.6,  32.2,  13.1,\n",
       "        23.4,  18.9,  23.9,  11.8,  23.3,  22.8,  19.6,  16.7,  13.4,\n",
       "        22.2,  20.4,  21.8,  26.4,  14.9,  24.1,  23.8,  12.3,  29.1,\n",
       "        21. ,  19.5,  23.3,  23.8,  17.8,  11.5,  21.7,  19.9,  25. ,\n",
       "        33.4,  28.5,  21.4,  24.3,  27.5,  33.1,  16.2,  23.3,  48.3,\n",
       "        22.9,  22.8,  13.1,  12.7,  22.6,  15. ,  15.3,  10.5,  24. ,\n",
       "        18.5,  21.7,  19.5,  33.2,  23.2,   5. ,  19.1,  12.7,  22.3,\n",
       "        10.2,  13.9,  16.3,  17. ,  20.1,  29.9,  17.2,  37.3,  45.4,\n",
       "        17.8,  23.2,  29. ,  22. ,  18. ,  17.4,  34.6,  20.1,  25. ,\n",
       "        15.6,  24.8,  28.2,  21.2,  21.4,  23.8,  31. ,  26.2,  17.4,\n",
       "        37.9,  17.5,  20. ,   8.3,  23.9,   8.4,  13.8,   7.2,  11.7,\n",
       "        17.1,  21.6,  50. ,  16.1,  20.4,  20.6,  21.4,  20.6,  36.5,\n",
       "         8.5,  24.8,  10.8,  21.9,  17.3,  18.9,  36.2,  14.9,  18.2,\n",
       "        33.3,  21.8,  19.7,  31.6,  24.8,  19.4,  22.8,   7.5,  44.8,\n",
       "        16.8,  18.7,  50. ,  50. ,  19.5,  20.1,  50. ,  17.2,  20.8,\n",
       "        19.3,  41.3,  20.4,  20.5,  13.8,  16.5,  23.9,  20.6,  31.5,\n",
       "        23.3,  16.8,  14. ,  33.8,  36.1,  12.8,  18.3,  18.7,  19.1,\n",
       "        29. ,  30.1,  50. ,  50. ,  22. ,  11.9,  37.6,  50. ,  22.7,\n",
       "        20.8,  23.5,  27.9,  50. ,  19.3,  23.9,  22.6,  15.2,  21.7,\n",
       "        19.2,  43.8,  20.3,  33.2,  19.9,  22.5,  32.7,  22. ,  17.1,\n",
       "        19. ,  15. ,  16.1,  25.1,  23.7,  28.7,  37.2,  22.6,  16.4,\n",
       "        25. ,  29.8,  22.1,  17.4,  18.1,  30.3,  17.5,  24.7,  12.6,\n",
       "        26.5,  28.7,  13.3,  10.4,  24.4,  23. ,  20. ,  17.8,   7. ,\n",
       "        11.8,  24.4,  13.8,  19.4,  25.2,  19.4,  19.4,  29.1])"
      ]
     },
     "execution_count": 4,
     "metadata": {},
     "output_type": "execute_result"
    }
   ],
   "source": [
    "train_targets"
   ]
  },
  {
   "cell_type": "code",
   "execution_count": 5,
   "metadata": {
    "collapsed": true
   },
   "outputs": [],
   "source": [
    "# 数据归一化\n",
    "\n",
    "mean = train_data.mean(axis=0)  # 求均值\n",
    "train_data -= mean    # x-u\n",
    "std = train_data.std(axis=0)  # 标准差delta\n",
    "train_data /= std  # (x-u)/delta\n"
   ]
  },
  {
   "cell_type": "code",
   "execution_count": 6,
   "metadata": {
    "collapsed": true
   },
   "outputs": [],
   "source": [
    "# 模型定义\n",
    "\n",
    "# mse均方误差： 预测值与目标值之间差的平方\n",
    "# mae 平均绝对误差：预测值与目标值之间差的绝对值\n",
    "\n",
    "from keras import models\n",
    "from keras import layers\n",
    "\n",
    "def build_model():\n",
    "    model = models.Sequential()\n",
    "    model.add(layers.Dense(64, activation='relu', input_shape=(train_data.shape[1],)))\n",
    "    model.add(layers.Dense(64, activation='relu'))\n",
    "    model.add(layers.Dense(1))\n",
    "    model.compile(optimizer='rmsprop', loss='mse', metrics=['mae'])\n",
    "    return model \n"
   ]
  },
  {
   "cell_type": "markdown",
   "metadata": {
    "collapsed": true
   },
   "source": [
    "### 利用K折交叉验证你的方法\n",
    "- 可用数据划分为K个分区(通常为4/5)，实例化K个相同的模型，将每个模型在K-1个分区上训练，并在剩下的一个分区上进行评估。模型的验证分数等于k个验证分数的平均值。"
   ]
  },
  {
   "cell_type": "code",
   "execution_count": 7,
   "metadata": {},
   "outputs": [
    {
     "name": "stdout",
     "output_type": "stream",
     "text": [
      "正在处理第0折数据\n",
      "WARNING:tensorflow:From /home/cdl/.conda/envs/py35/lib/python3.5/site-packages/keras/backend/tensorflow_backend.py:1290: calling reduce_mean (from tensorflow.python.ops.math_ops) with keep_dims is deprecated and will be removed in a future version.\n",
      "Instructions for updating:\n",
      "keep_dims is deprecated, use keepdims instead\n",
      "正在处理第1折数据\n",
      "正在处理第2折数据\n",
      "正在处理第3折数据\n"
     ]
    }
   ],
   "source": [
    "# K折验证\n",
    "import numpy as np\n",
    "\n",
    "k = 4\n",
    "num_val_samples = len(train_data) // k  # 地板除\n",
    "num_epochs = 100\n",
    "all_scores = []\n",
    "for i in range(k):\n",
    "    print('正在处理第{}折数据'.format(i))\n",
    "    val_data = train_data[i*num_val_samples: (i+1)*num_val_samples]\n",
    "    val_targets = train_targets[i*num_val_samples: (i+1)*num_val_samples]\n",
    "    \n",
    "    # 准备训练数据\n",
    "    partial_train_data = np.concatenate([train_data[:i*num_val_samples], train_data[(i+1)*num_val_samples:]],axis=0)\n",
    "    partial_train_targets = np.concatenate([train_targets[:i*num_val_samples], train_targets[(i+1)*num_val_samples:]],axis=0)\n",
    "    \n",
    "    model = build_model()\n",
    "    model.fit(partial_train_data, partial_train_targets, epochs=num_epochs, batch_size=1, verbose=0)\n",
    "    val_mse, val_mae = model.evaluate(val_data, val_targets, verbose=0)\n",
    "    all_scores.append(val_mae)"
   ]
  },
  {
   "cell_type": "code",
   "execution_count": 8,
   "metadata": {},
   "outputs": [
    {
     "data": {
      "text/plain": [
       "[2.0734156452783266,\n",
       " 2.4160672508844057,\n",
       " 2.9433878164480229,\n",
       " 2.3552650779780775]"
      ]
     },
     "execution_count": 8,
     "metadata": {},
     "output_type": "execute_result"
    }
   ],
   "source": [
    "all_scores"
   ]
  },
  {
   "cell_type": "code",
   "execution_count": null,
   "metadata": {},
   "outputs": [],
   "source": [
    "np.mean(all_scores)"
   ]
  },
  {
   "cell_type": "code",
   "execution_count": 10,
   "metadata": {},
   "outputs": [
    {
     "name": "stdout",
     "output_type": "stream",
     "text": [
      "正在处理第0折数据\n",
      "正在处理第1折数据\n",
      "正在处理第2折数据\n",
      "正在处理第3折数据\n"
     ]
    }
   ],
   "source": [
    "# 保存每折的验证结果\n",
    "num_epochs = 100\n",
    "all_mae_histories = []\n",
    "for i in range(k):\n",
    "    print('正在处理第{}折数据'.format(i))\n",
    "    val_data = train_data[i*num_val_samples: (i+1)*num_val_samples]\n",
    "    val_targets = train_targets[i*num_val_samples: (i+1)*num_val_samples]\n",
    "    \n",
    "    # 准备训练数据\n",
    "    partial_train_data = np.concatenate([train_data[:i*num_val_samples], train_data[(i+1)*num_val_samples:]],axis=0)\n",
    "    partial_train_targets = np.concatenate([train_targets[:i*num_val_samples], train_targets[(i+1)*num_val_samples:]],axis=0)\n",
    "    \n",
    "    model = build_model()\n",
    "    model.fit(partial_train_data, partial_train_targets, epochs=num_epochs, batch_size=1, verbose=0)  # verbose=0 静默模式\n",
    "    val_mse, val_mae = model.evaluate(val_data, val_targets, verbose=0)\n",
    "    all_scores.append(val_mae)\n",
    "    \n",
    "    model = build_model()\n",
    "    history = model.fit(partial_train_data, partial_train_targets, validation_data=(val_data, val_targets), epochs=num_epochs, batch_size=1, verbose=0)\n",
    "    mae_history = history.history['val_mean_absolute_error']\n",
    "    all_mae_histories.append(mae_history)\n",
    "    \n"
   ]
  },
  {
   "cell_type": "code",
   "execution_count": 14,
   "metadata": {},
   "outputs": [],
   "source": [
    "average_mae_history = [\n",
    "np.mean([x[i] for x in all_mae_histories]) for i in range(num_epochs)]"
   ]
  },
  {
   "cell_type": "code",
   "execution_count": 15,
   "metadata": {},
   "outputs": [
    {
     "data": {
      "image/png": "[encoded data removed]",
      "text/plain": [
       "<matplotlib.figure.Figure at 0x7fb20c130438>"
      ]
     },
     "metadata": {},
     "output_type": "display_data"
    }
   ],
   "source": [
    "# 绘制验证分数\n",
    "\n",
    "import matplotlib.pyplot as plt\n",
    "\n",
    "plt.plot(range(1, len(average_mae_history) + 1), average_mae_history)\n",
    "plt.xlabel('Epochs')\n",
    "plt.ylabel('Validation MAE')\n",
    "plt.show()"
   ]
  },
  {
   "cell_type": "code",
   "execution_count": 16,
   "metadata": {},
   "outputs": [
    {
     "data": {
      "image/png": "[encoded data removed]",
      "text/plain": [
       "<matplotlib.figure.Figure at 0x7fb20c08e208>"
      ]
     },
     "metadata": {},
     "output_type": "display_data"
    }
   ],
   "source": [
    "# 因为纵轴的范围较大，且数据方差相对较大，所以难以看清上图的规律\n",
    "# 删除前 10 个数据点，因为它们的取值范围与曲线上的其他点不同\n",
    "# 将每个数据点替换为前面数据点的指数移动平均值，以得到光滑的曲线\n",
    "def smooth_curve(points, factor=0.9):\n",
    "    smoothed_points = []\n",
    "    for point in points:\n",
    "        if smoothed_points:\n",
    "            previous = smoothed_points[-1]\n",
    "            smoothed_points.append(previous * factor + point * (1 - factor))\n",
    "        else:\n",
    "            smoothed_points.append(point)\n",
    "    return smoothed_points\n",
    "\n",
    "\n",
    "smooth_mae_history = smooth_curve(average_mae_history[10:])\n",
    "plt.plot(range(1, len(smooth_mae_history) + 1), smooth_mae_history)\n",
    "plt.xlabel('Epochs')\n",
    "plt.ylabel('Validation MAE')\n",
    "plt.show()"
   ]
  },
  {
   "cell_type": "code",
   "execution_count": 20,
   "metadata": {},
   "outputs": [
    {
     "name": "stdout",
     "output_type": "stream",
     "text": [
      "\r",
      " 32/102 [========>.....................] - ETA: 0s"
     ]
    },
    {
     "data": {
      "text/plain": [
       "2275.3690592447915"
      ]
     },
     "execution_count": 20,
     "metadata": {},
     "output_type": "execute_result"
    }
   ],
   "source": [
    "# 训练最终模型\n",
    "\n",
    "\n",
    "model = build_model()\n",
    "model.fit(train_data, train_targets, epochs=80, batch_size=16, verbose=0)\n",
    "test_mse_score, test_mae_score = model.evaluate(test_data, test_targets)\n",
    "test_mae_score"
   ]
  },
  {
   "cell_type": "markdown",
   "metadata": {},
   "source": [
    "### 线性回归总结\n",
    "- 回归问题使用的损失函数与分类问题不同。回归常用的损失函数是均方误差（ MSE）\n",
    "- 回归问题使用的评估指标也与分类问题不同。显而易见，精度的概念不适用于回归问题。常见的回归指标是平均绝对误差（ MAE）\n",
    "- 如果输入数据的特征具有不同的取值范围，应该先进行预处理，对每个特征单独进行缩放\n",
    "- 如果可用的数据很少，使用 K 折验证可以可靠地评估模型\n",
    "- 如果可用的训练数据很少，最好使用隐藏层较少（通常只有一到两个）的小型网络，以避免严重的过拟合"
   ]
  },
  {
   "cell_type": "markdown",
   "metadata": {},
   "source": [
    "# 练习2总结\n",
    "- 处理关于向量数据最常见的机器学习任务了：二分类问题、多分类问题和标量回归问题\n",
    "- 在将原始数据输入神经网络之前，通常需要对其进行预处理\n",
    "- 如果数据特征具有不同的取值范围，那么需要进行预处理，将每个特征单独缩放\n",
    "- 随着训练的进行，神经网络最终会过拟合，并在前所未见的数据上得到更差的结果\n",
    "- 如果训练数据不是很多，应该使用只有一两个隐藏层的小型网络，以避免严重的过拟合\n",
    "- 如果数据被分为多个类别，那么中间层过小可能会导致信息瓶颈\n",
    "- 回归问题使用的损失函数和评估指标都与分类问题不同\n",
    "- 如果要处理的数据很少， K 折验证有助于可靠地评估模型"
   ]
  }
 ],
 "metadata": {
  "kernelspec": {
   "display_name": "Python 3",
   "language": "python",
   "name": "python3"
  },
  "language_info": {
   "codemirror_mode": {
    "name": "ipython",
    "version": 3
   },
   "file_extension": ".py",
   "mimetype": "text/x-python",
   "name": "python",
   "nbconvert_exporter": "python",
   "pygments_lexer": "ipython3",
   "version": "3.5.4"
  }
 },
 "nbformat": 4,
 "nbformat_minor": 2
}
