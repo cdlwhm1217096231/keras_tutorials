{
 "cells": [
  {
   "cell_type": "code",
   "execution_count": 3,
   "metadata": {},
   "outputs": [
    {
     "name": "stderr",
     "output_type": "stream",
     "text": [
      "Using TensorFlow backend.\n"
     ]
    },
    {
     "data": {
      "text/plain": [
       "'2.0.8'"
      ]
     },
     "execution_count": 3,
     "metadata": {},
     "output_type": "execute_result"
    }
   ],
   "source": [
    "import keras\n",
    "\n",
    "keras.__version__"
   ]
  },
  {
   "cell_type": "markdown",
   "metadata": {},
   "source": [
    "## 1.卷积网络"
   ]
  },
  {
   "cell_type": "markdown",
   "metadata": {},
   "source": [
    "### 实例化一个小型的卷积神经网络"
   ]
  },
  {
   "cell_type": "code",
   "execution_count": 4,
   "metadata": {
    "collapsed": true
   },
   "outputs": [],
   "source": [
    "from keras import models\n",
    "from keras import layers\n",
    "\n",
    "\n",
    "model = models.Sequential()\n",
    "model.add(layers.Conv2D(32, (3, 3), activation='relu', input_shape=(28, 28, 1)))  # 卷积神经网络接收形状为 (image_height, image_width, image_channels)\n",
    "model.add(layers.MaxPool2D((2, 2)))\n",
    "model.add(layers.Conv2D(64, (3, 3), activation='relu'))\n",
    "model.add(layers.MaxPool2D((2, 2)))\n",
    "model.add(layers.Conv2D(64, (3, 3), activation='relu'))"
   ]
  },
  {
   "cell_type": "code",
   "execution_count": 5,
   "metadata": {},
   "outputs": [
    {
     "name": "stdout",
     "output_type": "stream",
     "text": [
      "_________________________________________________________________\n",
      "Layer (type)                 Output Shape              Param #   \n",
      "=================================================================\n",
      "conv2d_1 (Conv2D)            (None, 26, 26, 32)        320       \n",
      "_________________________________________________________________\n",
      "max_pooling2d_1 (MaxPooling2 (None, 13, 13, 32)        0         \n",
      "_________________________________________________________________\n",
      "conv2d_2 (Conv2D)            (None, 11, 11, 64)        18496     \n",
      "_________________________________________________________________\n",
      "max_pooling2d_2 (MaxPooling2 (None, 5, 5, 64)          0         \n",
      "_________________________________________________________________\n",
      "conv2d_3 (Conv2D)            (None, 3, 3, 64)          36928     \n",
      "=================================================================\n",
      "Total params: 55,744\n",
      "Trainable params: 55,744\n",
      "Non-trainable params: 0\n",
      "_________________________________________________________________\n"
     ]
    }
   ],
   "source": [
    "model.summary() # 查看cnn网络架构"
   ]
  },
  {
   "cell_type": "code",
   "execution_count": 6,
   "metadata": {
    "collapsed": true
   },
   "outputs": [],
   "source": [
    "# 每个 Conv2D 层和 MaxPooling2D 层的输出都是一个形状为 (height, width,channels) 的 3D 张量\n",
    "# 宽度和高度两个维度的尺寸通常会随着网络加深而变小。通道数量由传入 Conv2D 层的第一个参数所控制（ 32 或 64）"
   ]
  },
  {
   "cell_type": "markdown",
   "metadata": {},
   "source": [
    "### 在卷积神经网络上添加分类器"
   ]
  },
  {
   "cell_type": "code",
   "execution_count": 7,
   "metadata": {},
   "outputs": [
    {
     "name": "stdout",
     "output_type": "stream",
     "text": [
      "WARNING:tensorflow:From /home/cdl/.conda/envs/py35/lib/python3.5/site-packages/keras/backend/tensorflow_backend.py:1205: calling reduce_prod (from tensorflow.python.ops.math_ops) with keep_dims is deprecated and will be removed in a future version.\n",
      "Instructions for updating:\n",
      "keep_dims is deprecated, use keepdims instead\n"
     ]
    }
   ],
   "source": [
    "# 将最后的输出张量［大小为 (3, 3, 64)］输入到一个密集连接分类器网络中，即 Dense 层的堆叠\n",
    "# 这些分类器可以处理 1D 向量，而当前的输出是 3D 张量,将 3D 输出展平为 1D，然后在上面添加几个 Dense 层\n",
    "\n",
    "model.add(layers.Flatten())\n",
    "model.add(layers.Dense(64, activation='relu'))  # 将 3D 输出展平为 1D\n",
    "model.add(layers.Dense(10, activation='softmax'))"
   ]
  },
  {
   "cell_type": "code",
   "execution_count": 8,
   "metadata": {},
   "outputs": [
    {
     "name": "stdout",
     "output_type": "stream",
     "text": [
      "_________________________________________________________________\n",
      "Layer (type)                 Output Shape              Param #   \n",
      "=================================================================\n",
      "conv2d_1 (Conv2D)            (None, 26, 26, 32)        320       \n",
      "_________________________________________________________________\n",
      "max_pooling2d_1 (MaxPooling2 (None, 13, 13, 32)        0         \n",
      "_________________________________________________________________\n",
      "conv2d_2 (Conv2D)            (None, 11, 11, 64)        18496     \n",
      "_________________________________________________________________\n",
      "max_pooling2d_2 (MaxPooling2 (None, 5, 5, 64)          0         \n",
      "_________________________________________________________________\n",
      "conv2d_3 (Conv2D)            (None, 3, 3, 64)          36928     \n",
      "_________________________________________________________________\n",
      "flatten_1 (Flatten)          (None, 576)               0         \n",
      "_________________________________________________________________\n",
      "dense_1 (Dense)              (None, 64)                36928     \n",
      "_________________________________________________________________\n",
      "dense_2 (Dense)              (None, 10)                650       \n",
      "=================================================================\n",
      "Total params: 93,322\n",
      "Trainable params: 93,322\n",
      "Non-trainable params: 0\n",
      "_________________________________________________________________\n"
     ]
    }
   ],
   "source": [
    "model.summary()"
   ]
  },
  {
   "cell_type": "markdown",
   "metadata": {},
   "source": [
    "### 在MNIST图像上训练卷积神经网络"
   ]
  },
  {
   "cell_type": "code",
   "execution_count": 9,
   "metadata": {},
   "outputs": [
    {
     "name": "stdout",
     "output_type": "stream",
     "text": [
      "WARNING:tensorflow:From /home/cdl/.conda/envs/py35/lib/python3.5/site-packages/keras/backend/tensorflow_backend.py:2755: calling reduce_sum (from tensorflow.python.ops.math_ops) with keep_dims is deprecated and will be removed in a future version.\n",
      "Instructions for updating:\n",
      "keep_dims is deprecated, use keepdims instead\n",
      "WARNING:tensorflow:From /home/cdl/.conda/envs/py35/lib/python3.5/site-packages/keras/backend/tensorflow_backend.py:1290: calling reduce_mean (from tensorflow.python.ops.math_ops) with keep_dims is deprecated and will be removed in a future version.\n",
      "Instructions for updating:\n",
      "keep_dims is deprecated, use keepdims instead\n",
      "Epoch 1/5\n",
      "60000/60000 [==============================] - 68s - loss: 0.1736 - acc: 0.9450    \n",
      "Epoch 2/5\n",
      "60000/60000 [==============================] - 67s - loss: 0.0450 - acc: 0.9862    \n",
      "Epoch 3/5\n",
      "60000/60000 [==============================] - 69s - loss: 0.0313 - acc: 0.9902    \n",
      "Epoch 4/5\n",
      "60000/60000 [==============================] - 79s - loss: 0.0242 - acc: 0.9926    \n",
      "Epoch 5/5\n",
      "60000/60000 [==============================] - 77s - loss: 0.0200 - acc: 0.9940    \n"
     ]
    },
    {
     "data": {
      "text/plain": [
       "<keras.callbacks.History at 0x7f6386fad2e8>"
      ]
     },
     "execution_count": 9,
     "metadata": {},
     "output_type": "execute_result"
    }
   ],
   "source": [
    "from keras.datasets import mnist\n",
    "from keras.utils import to_categorical\n",
    "\n",
    "(train_images, train_labels), (test_images, test_labels) = mnist.load_data()\n",
    "\n",
    "train_images = train_images.reshape((60000, 28, 28, 1))\n",
    "train_images = train_images.astype('float32') / 255\n",
    "\n",
    "test_images = test_images.reshape((10000, 28, 28, 1))\n",
    "test_images = test_images.astype('float32') / 255\n",
    "\n",
    "train_labels = to_categorical(train_labels)\n",
    "test_labels = to_categorical(test_labels)\n",
    "\n",
    "model = models.Sequential()\n",
    "model.add(layers.Conv2D(32, (3, 3), activation='relu', input_shape=(28, 28, 1)))  # 卷积神经网络接收形状为 (image_height, image_width, image_channels)\n",
    "model.add(layers.MaxPool2D((2, 2)))\n",
    "model.add(layers.Conv2D(64, (3, 3), activation='relu'))\n",
    "model.add(layers.MaxPool2D((2, 2)))\n",
    "model.add(layers.Conv2D(64, (3, 3), activation='relu'))\n",
    "\n",
    "model.add(layers.Flatten())\n",
    "model.add(layers.Dense(64, activation='relu'))  # 将 3D 输出展平为 1D\n",
    "model.add(layers.Dense(10, activation='softmax'))\n",
    "\n",
    "\n",
    "model.compile(optimizer='rmsprop',loss='categorical_crossentropy',metrics=['accuracy'])\n",
    "model.fit(train_images, train_labels, epochs=5, batch_size=64)"
   ]
  },
  {
   "cell_type": "code",
   "execution_count": 10,
   "metadata": {},
   "outputs": [
    {
     "name": "stdout",
     "output_type": "stream",
     "text": [
      " 9952/10000 [============================>.] - ETA: 0s"
     ]
    }
   ],
   "source": [
    "# 评估模型\n",
    "test_loss, test_acc = model.evaluate(test_images, test_labels)"
   ]
  },
  {
   "cell_type": "code",
   "execution_count": 11,
   "metadata": {},
   "outputs": [
    {
     "data": {
      "text/plain": [
       "0.99180000000000001"
      ]
     },
     "execution_count": 11,
     "metadata": {},
     "output_type": "execute_result"
    }
   ],
   "source": [
    "test_acc"
   ]
  },
  {
   "cell_type": "markdown",
   "metadata": {},
   "source": [
    "### 在小型数据集上从头开始训练一个卷积神经网络---------猫狗大战分类"
   ]
  },
  {
   "cell_type": "code",
   "execution_count": 12,
   "metadata": {
    "collapsed": true
   },
   "outputs": [],
   "source": [
    "import os\n",
    "import shutil\n",
    "\n",
    "\n",
    "PROJECT_ROOT_DIR = '.'\n",
    "\n",
    "\n",
    "def find_data(path):\n",
    "    if os.path.exists(path) is False:\n",
    "        os.makedirs(path)\n",
    "\n",
    "        \n",
    "# 训练集有1000张猫的图片，1000张狗的图片\n",
    "train_cats_path = os.path.join(PROJECT_ROOT_DIR, 'datasets/train_dir/train_cats_dir')\n",
    "find_data(train_cats_path)\n",
    "\n",
    "train_dogs_path = os.path.join(PROJECT_ROOT_DIR, 'datasets/train_dir/train_dogs_dir')\n",
    "find_data(train_dogs_path)\n",
    "\n",
    "# 验证集有500张猫的图片，500张狗的图片\n",
    "validation_cats_path = os.path.join(PROJECT_ROOT_DIR, 'datasets/validation_dir/validation_cats_dir')\n",
    "find_data(validation_cats_path)\n",
    "\n",
    "validation_dogs_path = os.path.join(PROJECT_ROOT_DIR, 'datasets/validation_dir/validation_dogs_dir')\n",
    "find_data(validation_dogs_path)\n",
    "\n",
    "\n",
    "# 测试集有500张猫的图片，500张狗的图片\n",
    "test_cats_path = os.path.join(PROJECT_ROOT_DIR, 'datasets/test_dir/test_cats_dir')\n",
    "find_data(test_cats_path)\n",
    "\n",
    "test_dogs_path = os.path.join(PROJECT_ROOT_DIR, 'datasets/test_dir/test_dogs_dir')\n",
    "find_data(test_dogs_path)\n",
    "\n",
    "\n",
    "# 将前1000张猫的图片复制到train_cats_dir文件目录下------训练集\n",
    "filenames = [\"cat.{}.jpg\".format(i) for i in range(1000)]\n",
    "for filename in filenames:\n",
    "    src = os.path.join(PROJECT_ROOT_DIR, 'datasets/train/', filename)\n",
    "    dst = os.path.join(PROJECT_ROOT_DIR, 'datasets/train_dir/train_cats_dir/', filename)\n",
    "    shutil.copyfile(src, dst)\n",
    "\n",
    "# 将前1000张狗的图片复制到train_dogs_dir文件目录下------训练集\n",
    "filenames = [\"dog.{}.jpg\".format(i) for i in range(1000)]\n",
    "for filename in filenames:\n",
    "    src = os.path.join(PROJECT_ROOT_DIR, 'datasets/train/', filename)\n",
    "    dst = os.path.join(PROJECT_ROOT_DIR, 'datasets/train_dir/train_dogs_dir/', filename)\n",
    "    shutil.copyfile(src, dst)"
   ]
  },
  {
   "cell_type": "code",
   "execution_count": 13,
   "metadata": {
    "collapsed": true
   },
   "outputs": [],
   "source": [
    "# 将500张猫的图片复制到validation_cats_dir文件目录下----验证集\n",
    "filenames = ['cat.{}.jpg'.format(i) for i in range(1000,1500)]\n",
    "for filename in filenames:\n",
    "    src = os.path.join(PROJECT_ROOT_DIR, 'datasets/train/', filename)\n",
    "    dst = os.path.join(PROJECT_ROOT_DIR, 'datasets/validation_dir/validation_cats_dir/', filename)\n",
    "    shutil.copyfile(src, dst)\n",
    "    \n",
    "# 将500张狗的图片复制到validation_dogs_dir文件目录下----验证集\n",
    "filenames = ['dog.{}.jpg'.format(i) for i in range(1000, 1500)]\n",
    "for filename in filenames:\n",
    "    src = os.path.join(PROJECT_ROOT_DIR, 'datasets/train/', filename)\n",
    "    dst = os.path.join(PROJECT_ROOT_DIR, 'datasets/validation_dir/validation_dogs_dir/', filename)\n",
    "    shutil.copyfile(src, dst)"
   ]
  },
  {
   "cell_type": "code",
   "execution_count": 14,
   "metadata": {
    "collapsed": true
   },
   "outputs": [],
   "source": [
    "# 将500张猫的图片复制到test_cats_dir文件目录下----测试集\n",
    "filenames = ['cat.{}.jpg'.format(i) for i in range(1500, 2000)]\n",
    "for filename in filenames:\n",
    "    src = os.path.join(PROJECT_ROOT_DIR, 'datasets/train/', filename)\n",
    "    dst = os.path.join(PROJECT_ROOT_DIR, 'datasets/test_dir/test_cats_dir/', filename)\n",
    "    shutil.copyfile(src, dst)\n",
    "\n",
    "# 将500张狗的图片复制到test_dogs_dir文件目录下----测试集\n",
    "filenames = ['dog.{}.jpg'.format(i) for i in range(1500, 2000)]\n",
    "for filename in filenames:\n",
    "    src = os.path.join(PROJECT_ROOT_DIR, 'datasets/train/', filename)\n",
    "    dst = os.path.join(PROJECT_ROOT_DIR, 'datasets/test_dir/test_dogs_dir/', filename)\n",
    "    shutil.copyfile(src, dst)"
   ]
  },
  {
   "cell_type": "code",
   "execution_count": 15,
   "metadata": {},
   "outputs": [
    {
     "name": "stdout",
     "output_type": "stream",
     "text": [
      "训练集猫的大小： 1000\n",
      "训练集狗的大小： 1000\n",
      "验证集猫的大小： 500\n",
      "验证集狗的大小： 500\n",
      "测试集猫的大小： 500\n",
      "测试集狗的大小： 500\n"
     ]
    }
   ],
   "source": [
    "print('训练集猫的大小：', len(os.listdir(train_cats_path)))\n",
    "print('训练集狗的大小：', len(os.listdir(train_dogs_path)))\n",
    "print('验证集猫的大小：', len(os.listdir(validation_cats_path)))\n",
    "print('验证集狗的大小：', len(os.listdir(validation_dogs_path)))\n",
    "print('测试集猫的大小：', len(os.listdir(test_cats_path)))\n",
    "print('测试集狗的大小：', len(os.listdir(test_dogs_path)))"
   ]
  },
  {
   "cell_type": "code",
   "execution_count": 16,
   "metadata": {},
   "outputs": [],
   "source": [
    "from keras import layers\n",
    "from keras import models\n",
    "\n",
    "# 模型搭建\n",
    "model = models.Sequential()\n",
    "model.add(layers.Conv2D(32, (3, 3), activation='relu', input_shape=(150, 150, 3)))\n",
    "model.add(layers.MaxPool2D((2, 2)))\n",
    "model.add(layers.Conv2D(64, (3, 3), activation='relu'))\n",
    "model.add(layers.MaxPool2D((2, 2)))\n",
    "model.add(layers.Conv2D(128, (3, 3), activation='relu'))\n",
    "model.add(layers.MaxPool2D((2, 2)))\n",
    "model.add(layers.Flatten())\n",
    "model.add(layers.Dense(512, activation='relu'))\n",
    "model.add(layers.Dense(1, activation='relu'))"
   ]
  },
  {
   "cell_type": "code",
   "execution_count": 17,
   "metadata": {},
   "outputs": [
    {
     "name": "stdout",
     "output_type": "stream",
     "text": [
      "_________________________________________________________________\n",
      "Layer (type)                 Output Shape              Param #   \n",
      "=================================================================\n",
      "conv2d_7 (Conv2D)            (None, 148, 148, 32)      896       \n",
      "_________________________________________________________________\n",
      "max_pooling2d_5 (MaxPooling2 (None, 74, 74, 32)        0         \n",
      "_________________________________________________________________\n",
      "conv2d_8 (Conv2D)            (None, 72, 72, 64)        18496     \n",
      "_________________________________________________________________\n",
      "max_pooling2d_6 (MaxPooling2 (None, 36, 36, 64)        0         \n",
      "_________________________________________________________________\n",
      "conv2d_9 (Conv2D)            (None, 34, 34, 128)       73856     \n",
      "_________________________________________________________________\n",
      "max_pooling2d_7 (MaxPooling2 (None, 17, 17, 128)       0         \n",
      "_________________________________________________________________\n",
      "flatten_3 (Flatten)          (None, 36992)             0         \n",
      "_________________________________________________________________\n",
      "dense_5 (Dense)              (None, 512)               18940416  \n",
      "_________________________________________________________________\n",
      "dense_6 (Dense)              (None, 1)                 513       \n",
      "=================================================================\n",
      "Total params: 19,034,177\n",
      "Trainable params: 19,034,177\n",
      "Non-trainable params: 0\n",
      "_________________________________________________________________\n"
     ]
    }
   ],
   "source": [
    "model.summary()"
   ]
  },
  {
   "cell_type": "code",
   "execution_count": 18,
   "metadata": {
    "collapsed": true
   },
   "outputs": [],
   "source": [
    "from keras import optimizers\n",
    "\n",
    "# 模型编译\n",
    "model.compile(loss='binary_crossentropy', optimizer=optimizers.RMSprop(lr=1e-4), metrics=['acc'])"
   ]
  },
  {
   "cell_type": "code",
   "execution_count": 19,
   "metadata": {},
   "outputs": [
    {
     "name": "stdout",
     "output_type": "stream",
     "text": [
      "Found 2000 images belonging to 2 classes.\n",
      "Found 1000 images belonging to 2 classes.\n"
     ]
    }
   ],
   "source": [
    "# 数据预处理\n",
    "\n",
    "# 使用ImageDataGenerator从目录中读取图像\n",
    "from keras.preprocessing.image import ImageDataGenerator\n",
    "\n",
    "train_datagen = ImageDataGenerator(rescale=1./255)\n",
    "test_datagen = ImageDataGenerator(rescale=1./255)\n",
    "\n",
    "train_generator = train_datagen.flow_from_directory('datasets/train_dir/', target_size=(150, 150), batch_size=20, class_mode='binary')\n",
    "validation_generator = test_datagen.flow_from_directory('datasets/validation_dir/', target_size=(150, 150), batch_size=20, class_mode='binary')"
   ]
  },
  {
   "cell_type": "code",
   "execution_count": 20,
   "metadata": {},
   "outputs": [
    {
     "name": "stdout",
     "output_type": "stream",
     "text": [
      "data batch的大小: (20, 150, 150, 3)\n",
      "labels batch的大小: (20,)\n"
     ]
    }
   ],
   "source": [
    "for data_batch, labels_batch in train_generator:\n",
    "    print('data batch的大小:', data_batch.shape)\n",
    "    print('labels batch的大小:', labels_batch.shape)\n",
    "    break"
   ]
  },
  {
   "cell_type": "code",
   "execution_count": 21,
   "metadata": {},
   "outputs": [
    {
     "name": "stdout",
     "output_type": "stream",
     "text": [
      "Epoch 1/30\n",
      "100/100 [==============================] - 189s - loss: 8.0307 - acc: 0.0110 - val_loss: 7.9712 - val_acc: 0.0010\n",
      "Epoch 2/30\n",
      "100/100 [==============================] - 189s - loss: 7.9792 - acc: 0.0025 - val_loss: 7.8755 - val_acc: 0.0020\n",
      "Epoch 3/30\n",
      "100/100 [==============================] - 171s - loss: 7.9632 - acc: 0.0025 - val_loss: 7.9712 - val_acc: 0.0000e+00\n",
      "Epoch 4/30\n",
      "100/100 [==============================] - 172s - loss: 7.9632 - acc: 0.0025 - val_loss: 8.0350 - val_acc: 0.0010\n",
      "Epoch 5/30\n",
      "100/100 [==============================] - 189s - loss: 7.9632 - acc: 0.0025 - val_loss: 7.7958 - val_acc: 0.0020\n",
      "Epoch 6/30\n",
      "100/100 [==============================] - 174s - loss: 7.9951 - acc: 0.0025 - val_loss: 7.9712 - val_acc: 0.0010\n",
      "Epoch 7/30\n",
      "100/100 [==============================] - 185s - loss: 7.9473 - acc: 0.0025 - val_loss: 7.9234 - val_acc: 0.0020\n",
      "Epoch 8/30\n",
      "100/100 [==============================] - 176s - loss: 7.9632 - acc: 0.0025 - val_loss: 8.0509 - val_acc: 0.0000e+00\n",
      "Epoch 9/30\n",
      "100/100 [==============================] - 170s - loss: 7.9871 - acc: 0.0025 - val_loss: 8.1306 - val_acc: 0.0010\n",
      "Epoch 10/30\n",
      "100/100 [==============================] - 184s - loss: 8.0031 - acc: 0.0025 - val_loss: 8.0350 - val_acc: 0.0020\n",
      "Epoch 11/30\n",
      "100/100 [==============================] - 184s - loss: 7.9154 - acc: 0.0025 - val_loss: 7.9712 - val_acc: 0.0010\n",
      "Epoch 12/30\n",
      "100/100 [==============================] - 178s - loss: 8.0270 - acc: 0.0025 - val_loss: 8.2582 - val_acc: 0.0010\n",
      "Epoch 13/30\n",
      "100/100 [==============================] - 172s - loss: 7.9234 - acc: 0.0025 - val_loss: 8.0987 - val_acc: 0.0010\n",
      "Epoch 14/30\n",
      "100/100 [==============================] - 164s - loss: 7.9951 - acc: 0.0025 - val_loss: 7.7639 - val_acc: 0.0010\n",
      "Epoch 15/30\n",
      "100/100 [==============================] - 169s - loss: 7.9473 - acc: 0.0025 - val_loss: 7.8755 - val_acc: 0.0010\n",
      "Epoch 16/30\n",
      "100/100 [==============================] - 182s - loss: 7.9792 - acc: 0.0025 - val_loss: 7.9712 - val_acc: 0.0010\n",
      "Epoch 17/30\n",
      "100/100 [==============================] - 182s - loss: 7.9792 - acc: 0.0025 - val_loss: 7.7958 - val_acc: 0.0010\n",
      "Epoch 18/30\n",
      "100/100 [==============================] - 181s - loss: 7.9632 - acc: 0.0025 - val_loss: 7.9234 - val_acc: 0.0010\n",
      "Epoch 19/30\n",
      "100/100 [==============================] - 173s - loss: 7.9712 - acc: 0.0025 - val_loss: 8.2103 - val_acc: 0.0010\n",
      "Epoch 20/30\n",
      "100/100 [==============================] - 185s - loss: 8.0110 - acc: 0.0025 - val_loss: 8.0509 - val_acc: 0.0000e+00\n",
      "Epoch 21/30\n",
      "100/100 [==============================] - 180s - loss: 7.9473 - acc: 0.0030 - val_loss: 7.9712 - val_acc: 0.0010\n",
      "Epoch 22/30\n",
      "100/100 [==============================] - 183s - loss: 7.9632 - acc: 0.0020 - val_loss: 7.8437 - val_acc: 0.0010\n",
      "Epoch 23/30\n",
      "100/100 [==============================] - 176s - loss: 7.9712 - acc: 0.0025 - val_loss: 7.6205 - val_acc: 0.0010\n",
      "Epoch 24/30\n",
      "100/100 [==============================] - 182s - loss: 7.9632 - acc: 0.0025 - val_loss: 8.1784 - val_acc: 0.0010\n",
      "Epoch 25/30\n",
      "100/100 [==============================] - 164s - loss: 7.9393 - acc: 0.0025 - val_loss: 8.0828 - val_acc: 0.0010\n",
      "Epoch 26/30\n",
      "100/100 [==============================] - 168s - loss: 8.0270 - acc: 0.0025 - val_loss: 7.9712 - val_acc: 0.0010\n",
      "Epoch 27/30\n",
      "100/100 [==============================] - 166s - loss: 7.9393 - acc: 0.0025 - val_loss: 7.6842 - val_acc: 0.0010\n",
      "Epoch 28/30\n",
      "100/100 [==============================] - 166s - loss: 7.9792 - acc: 0.0025 - val_loss: 8.4495 - val_acc: 0.0010\n",
      "Epoch 29/30\n",
      "100/100 [==============================] - 166s - loss: 7.9712 - acc: 0.0025 - val_loss: 7.8755 - val_acc: 0.0000e+00\n",
      "Epoch 30/30\n",
      "100/100 [==============================] - 166s - loss: 7.9951 - acc: 0.0025 - val_loss: 7.9074 - val_acc: 0.0000e+00\n"
     ]
    }
   ],
   "source": [
    "# 利用批量生成器拟合模型\n",
    "\n",
    "history = model.fit_generator(train_generator,\n",
    "                             steps_per_epoch=100,\n",
    "                             epochs=30,\n",
    "                             validation_data=validation_generator,\n",
    "                             validation_steps=50)\n"
   ]
  },
  {
   "cell_type": "code",
   "execution_count": 23,
   "metadata": {},
   "outputs": [],
   "source": [
    "# 保存模型\n",
    "import h5py\n",
    "\n",
    "model.save('save_cats_and_dogs_model.h5')"
   ]
  },
  {
   "cell_type": "code",
   "execution_count": 26,
   "metadata": {},
   "outputs": [
    {
     "data": {
      "image/png": "[encoded data removed]",
      "text/plain": [
       "<matplotlib.figure.Figure at 0x7f6327909a90>"
      ]
     },
     "metadata": {},
     "output_type": "display_data"
    },
    {
     "data": {
      "image/png": "[encoded data removed]",
      "text/plain": [
       "<matplotlib.figure.Figure at 0x7f63278d8e80>"
      ]
     },
     "metadata": {},
     "output_type": "display_data"
    }
   ],
   "source": [
    "# 绘制训练过程中的损失曲线和精度曲线\n",
    "\n",
    "import matplotlib.pyplot as plt\n",
    "%matplotlib inline\n",
    "\n",
    "acc = history.history['acc']\n",
    "val_acc = history.history['val_acc']\n",
    "loss = history.history['loss']\n",
    "val_loss = history.history['val_loss']\n",
    "epochs = range(1, len(acc)+1)\n",
    "plt.plot(epochs, acc, 'ro', label='Training acc')\n",
    "plt.plot(epochs, val_acc, 'b', label='Validation acc')\n",
    "plt.title('Training and Validation acc')\n",
    "plt.legend()\n",
    "plt.figure()\n",
    "\n",
    "\n",
    "plt.plot(epochs, loss, 'ro', label='Training loss')\n",
    "plt.plot(epochs, val_loss, 'b', label='Validation loss')\n",
    "plt.title('Trainging and Validation loss')\n",
    "plt.legend();"
   ]
  },
  {
   "cell_type": "code",
   "execution_count": null,
   "metadata": {
    "collapsed": true
   },
   "outputs": [],
   "source": [
    "# 使用数据增强技术  data augment\n",
    "\n"
   ]
  },
  {
   "cell_type": "code",
   "execution_count": null,
   "metadata": {
    "collapsed": true
   },
   "outputs": [],
   "source": []
  },
  {
   "cell_type": "code",
   "execution_count": null,
   "metadata": {
    "collapsed": true
   },
   "outputs": [],
   "source": []
  },
  {
   "cell_type": "code",
   "execution_count": null,
   "metadata": {
    "collapsed": true
   },
   "outputs": [],
   "source": []
  }
 ],
 "metadata": {
  "kernelspec": {
   "display_name": "Python 3",
   "language": "python",
   "name": "python3"
  },
  "language_info": {
   "codemirror_mode": {
    "name": "ipython",
    "version": 3
   },
   "file_extension": ".py",
   "mimetype": "text/x-python",
   "name": "python",
   "nbconvert_exporter": "python",
   "pygments_lexer": "ipython3",
   "version": "3.5.4"
  }
 },
 "nbformat": 4,
 "nbformat_minor": 2
}
